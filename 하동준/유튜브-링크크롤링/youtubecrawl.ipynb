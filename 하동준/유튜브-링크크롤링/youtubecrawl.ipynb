{
 "cells": [
  {
   "cell_type": "code",
   "execution_count": 1,
   "metadata": {},
   "outputs": [],
   "source": [
    "import grequests\n",
    "import pandas as pd\n",
    "import numpy as np\n",
    "import os\n",
    "from tqdm import tqdm\n",
    "from bs4 import BeautifulSoup\n",
    "from tqdm import tqdm\n",
    "import requests\n",
    "\n"
   ]
  },
  {
   "cell_type": "code",
   "execution_count": 2,
   "metadata": {},
   "outputs": [],
   "source": [
    "from selenium import webdriver\n",
    "from selenium.webdriver.chrome import service\n",
    "from selenium.webdriver.chrome.options import Options\n",
    "from selenium.webdriver.chrome.service import Service\n",
    "from selenium.webdriver.common.keys import Keys\n",
    "from selenium.common.exceptions import WebDriverException as WDE\n",
    "from selenium.common.exceptions import NoSuchElementException, InvalidSessionIdException\n",
    "\n",
    "\n",
    "import pandas as pd\n",
    "import time\n",
    "from selenium.webdriver.common.by import By\n"
   ]
  },
  {
   "cell_type": "code",
   "execution_count": 3,
   "metadata": {},
   "outputs": [],
   "source": [
    "options = Options()\n",
    "options.add_argument(\"--no-sandbox\") #bypass OS security model\n",
    "options.add_argument(\"--headless\")\n",
    "options.add_argument(\"--disable-dev-shm-usage\")"
   ]
  },
  {
   "cell_type": "code",
   "execution_count": 4,
   "metadata": {},
   "outputs": [
    {
     "data": {
      "text/html": [
       "<div>\n",
       "<style scoped>\n",
       "    .dataframe tbody tr th:only-of-type {\n",
       "        vertical-align: middle;\n",
       "    }\n",
       "\n",
       "    .dataframe tbody tr th {\n",
       "        vertical-align: top;\n",
       "    }\n",
       "\n",
       "    .dataframe thead th {\n",
       "        text-align: right;\n",
       "    }\n",
       "</style>\n",
       "<table border=\"1\" class=\"dataframe\">\n",
       "  <thead>\n",
       "    <tr style=\"text-align: right;\">\n",
       "      <th></th>\n",
       "      <th>song_id</th>\n",
       "      <th>song_title</th>\n",
       "      <th>artist</th>\n",
       "      <th>song_genre</th>\n",
       "      <th>playlist_tag</th>\n",
       "      <th>playlist_title</th>\n",
       "      <th>lyric</th>\n",
       "      <th>id</th>\n",
       "    </tr>\n",
       "  </thead>\n",
       "  <tbody>\n",
       "    <tr>\n",
       "      <th>0</th>\n",
       "      <td>579571</td>\n",
       "      <td>Bezerk (Feat. A$AP Ferg)</td>\n",
       "      <td>Big Sean</td>\n",
       "      <td>랩/힙합</td>\n",
       "      <td>3105|40027091|5년동안|8281|HipHop|Hot100|Party|hi...</td>\n",
       "      <td>외국 힙합 띵곡 모음|듣기만해도 3대500할 것 같은 힙합!|턴업!! 춤추고 싶게 ...</td>\n",
       "      <td>Yeah, yeah (Hit-Boy)| Woah yeah, yeah| Sean, w...</td>\n",
       "      <td>0</td>\n",
       "    </tr>\n",
       "    <tr>\n",
       "      <th>1</th>\n",
       "      <td>579698</td>\n",
       "      <td>Take U There (Feat. Kiesza) (Missy Elliott Rem...</td>\n",
       "      <td>Jack U</td>\n",
       "      <td>일렉트로니카</td>\n",
       "      <td>2019UMF|Club|EDM|Electronic|Festival|GZ|HipHop...</td>\n",
       "      <td>#어디가서 힙알못 소리는 듣지말자 (해외)|#11 foreign swag songs...</td>\n",
       "      <td>You show me there's something more to us|Than ...</td>\n",
       "      <td>1</td>\n",
       "    </tr>\n",
       "    <tr>\n",
       "      <th>2</th>\n",
       "      <td>580131</td>\n",
       "      <td>King Of My Heart</td>\n",
       "      <td>Taylor Swift</td>\n",
       "      <td>POP</td>\n",
       "      <td>EDM|Hook|Pop|RnB|electronica|감성|개강|고등학생|공연|국외영...</td>\n",
       "      <td>해외에서 들으면 느낌 쩌는 취향저격 EDM &amp; PoP|여행 갈때 이 곡과 떠나요~!...</td>\n",
       "      <td>I'm perfectly fine I live on my own|I made up ...</td>\n",
       "      <td>2</td>\n",
       "    </tr>\n",
       "    <tr>\n",
       "      <th>3</th>\n",
       "      <td>581120</td>\n",
       "      <td>Not My Friend (Feat. PLUTO)</td>\n",
       "      <td>땡우</td>\n",
       "      <td>인디음악</td>\n",
       "      <td>2016년도1분기|MC|OwenOvadoz|겨울|결산|공연|국내외|국내힙합|기분전환...</td>\n",
       "      <td>대학교 축제 기간! 주점에서 플레이하기 좋은 알앤비, 힙합|힙합 틀어주세여 현기증난...</td>\n",
       "      <td>i came from LEVEL 0|대놓고 면전에다|욕하는 놈 어딨겠냐만|다 써져있...</td>\n",
       "      <td>3</td>\n",
       "    </tr>\n",
       "    <tr>\n",
       "      <th>4</th>\n",
       "      <td>581409</td>\n",
       "      <td>Pretend</td>\n",
       "      <td>Mali-Koa Hood</td>\n",
       "      <td>POP</td>\n",
       "      <td>Chill|Pop|감동|감미로운|감성|기분전환|기분좋은|나른한노래|달닻|독서할때|드...</td>\n",
       "      <td>힘든 청춘에게 바치는 랩소디|잔잔한 바람과 차분하게 듣기좋은 음악|[POP/KPOP...</td>\n",
       "      <td>unk</td>\n",
       "      <td>4</td>\n",
       "    </tr>\n",
       "  </tbody>\n",
       "</table>\n",
       "</div>"
      ],
      "text/plain": [
       "   song_id                                         song_title         artist  \\\n",
       "0   579571                           Bezerk (Feat. A$AP Ferg)       Big Sean   \n",
       "1   579698  Take U There (Feat. Kiesza) (Missy Elliott Rem...         Jack U   \n",
       "2   580131                                   King Of My Heart   Taylor Swift   \n",
       "3   581120                        Not My Friend (Feat. PLUTO)             땡우   \n",
       "4   581409                                            Pretend  Mali-Koa Hood   \n",
       "\n",
       "  song_genre                                       playlist_tag  \\\n",
       "0       랩/힙합  3105|40027091|5년동안|8281|HipHop|Hot100|Party|hi...   \n",
       "1     일렉트로니카  2019UMF|Club|EDM|Electronic|Festival|GZ|HipHop...   \n",
       "2        POP  EDM|Hook|Pop|RnB|electronica|감성|개강|고등학생|공연|국외영...   \n",
       "3       인디음악  2016년도1분기|MC|OwenOvadoz|겨울|결산|공연|국내외|국내힙합|기분전환...   \n",
       "4        POP  Chill|Pop|감동|감미로운|감성|기분전환|기분좋은|나른한노래|달닻|독서할때|드...   \n",
       "\n",
       "                                      playlist_title  \\\n",
       "0  외국 힙합 띵곡 모음|듣기만해도 3대500할 것 같은 힙합!|턴업!! 춤추고 싶게 ...   \n",
       "1  #어디가서 힙알못 소리는 듣지말자 (해외)|#11 foreign swag songs...   \n",
       "2  해외에서 들으면 느낌 쩌는 취향저격 EDM & PoP|여행 갈때 이 곡과 떠나요~!...   \n",
       "3  대학교 축제 기간! 주점에서 플레이하기 좋은 알앤비, 힙합|힙합 틀어주세여 현기증난...   \n",
       "4  힘든 청춘에게 바치는 랩소디|잔잔한 바람과 차분하게 듣기좋은 음악|[POP/KPOP...   \n",
       "\n",
       "                                               lyric  id  \n",
       "0  Yeah, yeah (Hit-Boy)| Woah yeah, yeah| Sean, w...   0  \n",
       "1  You show me there's something more to us|Than ...   1  \n",
       "2  I'm perfectly fine I live on my own|I made up ...   2  \n",
       "3  i came from LEVEL 0|대놓고 면전에다|욕하는 놈 어딨겠냐만|다 써져있...   3  \n",
       "4                                                unk   4  "
      ]
     },
     "execution_count": 4,
     "metadata": {},
     "output_type": "execute_result"
    }
   ],
   "source": [
    "songdata = pd.read_csv('/opt/ml/finalproject/kakaomusic/songs2.csv')\n",
    "songdata.head(5)"
   ]
  },
  {
   "cell_type": "code",
   "execution_count": 7,
   "metadata": {},
   "outputs": [],
   "source": [
    "# songdata.iloc[30:50]"
   ]
  },
  {
   "cell_type": "code",
   "execution_count": 7,
   "metadata": {},
   "outputs": [
    {
     "data": {
      "text/html": [
       "<div>\n",
       "<style scoped>\n",
       "    .dataframe tbody tr th:only-of-type {\n",
       "        vertical-align: middle;\n",
       "    }\n",
       "\n",
       "    .dataframe tbody tr th {\n",
       "        vertical-align: top;\n",
       "    }\n",
       "\n",
       "    .dataframe thead th {\n",
       "        text-align: right;\n",
       "    }\n",
       "</style>\n",
       "<table border=\"1\" class=\"dataframe\">\n",
       "  <thead>\n",
       "    <tr style=\"text-align: right;\">\n",
       "      <th></th>\n",
       "      <th>id</th>\n",
       "      <th>artist</th>\n",
       "      <th>song_title</th>\n",
       "    </tr>\n",
       "  </thead>\n",
       "  <tbody>\n",
       "    <tr>\n",
       "      <th>0</th>\n",
       "      <td>0</td>\n",
       "      <td>Big Sean</td>\n",
       "      <td>Bezerk (Feat. A$AP Ferg)</td>\n",
       "    </tr>\n",
       "    <tr>\n",
       "      <th>1</th>\n",
       "      <td>1</td>\n",
       "      <td>Jack U</td>\n",
       "      <td>Take U There (Feat. Kiesza) (Missy Elliott Rem...</td>\n",
       "    </tr>\n",
       "    <tr>\n",
       "      <th>2</th>\n",
       "      <td>2</td>\n",
       "      <td>Taylor Swift</td>\n",
       "      <td>King Of My Heart</td>\n",
       "    </tr>\n",
       "    <tr>\n",
       "      <th>3</th>\n",
       "      <td>3</td>\n",
       "      <td>땡우</td>\n",
       "      <td>Not My Friend (Feat. PLUTO)</td>\n",
       "    </tr>\n",
       "    <tr>\n",
       "      <th>4</th>\n",
       "      <td>4</td>\n",
       "      <td>Mali-Koa Hood</td>\n",
       "      <td>Pretend</td>\n",
       "    </tr>\n",
       "  </tbody>\n",
       "</table>\n",
       "</div>"
      ],
      "text/plain": [
       "   id         artist                                         song_title\n",
       "0   0       Big Sean                           Bezerk (Feat. A$AP Ferg)\n",
       "1   1         Jack U  Take U There (Feat. Kiesza) (Missy Elliott Rem...\n",
       "2   2   Taylor Swift                                   King Of My Heart\n",
       "3   3             땡우                        Not My Friend (Feat. PLUTO)\n",
       "4   4  Mali-Koa Hood                                            Pretend"
      ]
     },
     "execution_count": 7,
     "metadata": {},
     "output_type": "execute_result"
    }
   ],
   "source": [
    "song = songdata[['id','artist','song_title']]\n",
    "song.head(5)"
   ]
  },
  {
   "cell_type": "code",
   "execution_count": 8,
   "metadata": {},
   "outputs": [],
   "source": [
    "song_ll = song.values.tolist()"
   ]
  },
  {
   "cell_type": "code",
   "execution_count": 8,
   "metadata": {},
   "outputs": [
    {
     "name": "stdout",
     "output_type": "stream",
     "text": [
      "Big Sean Bezerk (Feat. A$AP Ferg)\n"
     ]
    }
   ],
   "source": [
    "for row in song_ll:\n",
    "    # print(row)\n",
    "    query = row[1] + ' ' + row[2]\n",
    "    print(query)\n",
    "    break"
   ]
  },
  {
   "cell_type": "code",
   "execution_count": 9,
   "metadata": {},
   "outputs": [
    {
     "name": "stdout",
     "output_type": "stream",
     "text": [
      "[12501, '신승훈', '처음 그 느낌처럼']\n"
     ]
    }
   ],
   "source": [
    "batch1 = song_ll[12501:]\n",
    "# batch2 = song_ll[20000:]\n",
    "print(batch1[0])\n",
    "# print(len(batch2))\n"
   ]
  },
  {
   "cell_type": "code",
   "execution_count": 13,
   "metadata": {},
   "outputs": [
    {
     "data": {
      "text/plain": [
       "4"
      ]
     },
     "execution_count": 13,
     "metadata": {},
     "output_type": "execute_result"
    }
   ],
   "source": [
    "20000%5000\n",
    "20000//5000"
   ]
  },
  {
   "cell_type": "code",
   "execution_count": 17,
   "metadata": {},
   "outputs": [
    {
     "data": {
      "text/plain": [
       "[[781, 'NO:EL', '長龍峻 (장용준)'],\n",
       " [782, '#안녕', '생각이 난다'],\n",
       " [783,\n",
       "  '잔잔한 피아노',\n",
       "  'Mozart : Piano Sonata No.11 In A Major K.331 - I. Tema (모차르트 : 피아노 소나타 11번 가장조 - 1악장)']]"
      ]
     },
     "execution_count": 17,
     "metadata": {},
     "output_type": "execute_result"
    }
   ],
   "source": [
    "song_ll[781:784]"
   ]
  },
  {
   "cell_type": "code",
   "execution_count": 11,
   "metadata": {},
   "outputs": [
    {
     "name": "stderr",
     "output_type": "stream",
     "text": [
      "  0%|          | 0/27499 [00:00<?, ?it/s]/tmp/ipykernel_17243/251069523.py:29: DeprecationWarning: find_element_by_xpath is deprecated. Please use find_element(by=By.XPATH, value=xpath) instead\n",
      "  a = driver.find_element_by_xpath('//*[@id=\"video-title\"]').get_attribute('href') # 최신영상 접속\n",
      "100%|██████████| 27499/27499 [17:42:43<00:00,  2.32s/it]   \n"
     ]
    }
   ],
   "source": [
    "url_df = pd.DataFrame(columns = {'id','url'})\n",
    "urls = []\n",
    "baseurl = 'https://www.youtube.com/results?search_query='\n",
    "cnt = 0\n",
    "\n",
    "s=Service('/opt/ml/chromedriver')\n",
    "driver = webdriver.Chrome(options=options, service=s)\n",
    "driver.implicitly_wait(5)\n",
    "\n",
    "\n",
    "\n",
    "for idx, row in enumerate(tqdm(batch1)):\n",
    "    # k = song_ll[782]\n",
    "    songid = row[0]\n",
    "    query = row[1] + ' ' + row[2]\n",
    "    # songid = k[0]\n",
    "    # query = k[1] + ' ' + k[2]\n",
    "    url = baseurl + query\n",
    "\n",
    "    if idx % 100 == 99:\n",
    "        driver.quit()\n",
    "        s=Service('/opt/ml/chromedriver')\n",
    "        driver = webdriver.Chrome(options=options, service=s)\n",
    "        driver.implicitly_wait(5)\n",
    "\n",
    "    driver.get(url)\n",
    "    dic = {}\n",
    "    try:\n",
    "        a = driver.find_element_by_xpath('//*[@id=\"video-title\"]').get_attribute('href') # 최신영상 접속\n",
    "        dic['id'] = songid\n",
    "        dic['url'] = a\n",
    "        url_df = url_df.append(dic, ignore_index=True)\n",
    "    except NoSuchElementException as n:\n",
    "        dic['id'] = songid\n",
    "        dic['url'] = None\n",
    "        url_df = url_df.append(dic, ignore_index=True)\n",
    "    # print(dic)\n",
    "    # break\n",
    "    if(idx%2500 == 0):\n",
    "        serialnum = idx//2500\n",
    "        nnn = '12501~' + str(serialnum*2500) +'_music_url.csv'\n",
    "        url_df.to_csv(nnn, index=False)\n",
    "\n",
    " \n",
    " \n",
    "        "
   ]
  },
  {
   "cell_type": "code",
   "execution_count": 12,
   "metadata": {},
   "outputs": [],
   "source": [
    "nnn = '12501~' + str(27500) +'_music_url.csv'\n",
    "url_df.to_csv(nnn, index=False)"
   ]
  },
  {
   "cell_type": "code",
   "execution_count": 13,
   "metadata": {},
   "outputs": [
    {
     "data": {
      "text/plain": [
       "[39999, 'Cheat Codes', 'Balenciaga']"
      ]
     },
     "execution_count": 13,
     "metadata": {},
     "output_type": "execute_result"
    }
   ],
   "source": [
    "song_ll[-1]"
   ]
  },
  {
   "cell_type": "code",
   "execution_count": 3,
   "metadata": {},
   "outputs": [],
   "source": [
    "a = pd.read_csv('/opt/ml/finalproject/youtubecrawl/12500_music_url.csv')\n",
    "b = pd.read_csv('/opt/ml/finalproject/youtubecrawl/12501~27500_music_url.csv')"
   ]
  },
  {
   "cell_type": "code",
   "execution_count": 4,
   "metadata": {},
   "outputs": [
    {
     "data": {
      "text/html": [
       "<div>\n",
       "<style scoped>\n",
       "    .dataframe tbody tr th:only-of-type {\n",
       "        vertical-align: middle;\n",
       "    }\n",
       "\n",
       "    .dataframe tbody tr th {\n",
       "        vertical-align: top;\n",
       "    }\n",
       "\n",
       "    .dataframe thead th {\n",
       "        text-align: right;\n",
       "    }\n",
       "</style>\n",
       "<table border=\"1\" class=\"dataframe\">\n",
       "  <thead>\n",
       "    <tr style=\"text-align: right;\">\n",
       "      <th></th>\n",
       "      <th>url</th>\n",
       "      <th>id</th>\n",
       "    </tr>\n",
       "  </thead>\n",
       "  <tbody>\n",
       "    <tr>\n",
       "      <th>0</th>\n",
       "      <td>https://www.youtube.com/watch?v=oak7VyEHvro</td>\n",
       "      <td>0.0</td>\n",
       "    </tr>\n",
       "    <tr>\n",
       "      <th>1</th>\n",
       "      <td>https://www.youtube.com/watch?v=r89yS7-1Q8A</td>\n",
       "      <td>1.0</td>\n",
       "    </tr>\n",
       "    <tr>\n",
       "      <th>2</th>\n",
       "      <td>https://www.youtube.com/watch?v=5U7bF68xcRg</td>\n",
       "      <td>2.0</td>\n",
       "    </tr>\n",
       "    <tr>\n",
       "      <th>3</th>\n",
       "      <td>https://www.youtube.com/watch?v=SS5WtM21RHQ</td>\n",
       "      <td>3.0</td>\n",
       "    </tr>\n",
       "    <tr>\n",
       "      <th>4</th>\n",
       "      <td>https://www.youtube.com/watch?v=SEZsww9F_yc</td>\n",
       "      <td>4.0</td>\n",
       "    </tr>\n",
       "    <tr>\n",
       "      <th>...</th>\n",
       "      <td>...</td>\n",
       "      <td>...</td>\n",
       "    </tr>\n",
       "    <tr>\n",
       "      <th>39995</th>\n",
       "      <td>https://www.youtube.com/watch?v=Jl0U7F27G3U</td>\n",
       "      <td>39995.0</td>\n",
       "    </tr>\n",
       "    <tr>\n",
       "      <th>39996</th>\n",
       "      <td>https://www.youtube.com/watch?v=yAjVntEUPyE</td>\n",
       "      <td>39996.0</td>\n",
       "    </tr>\n",
       "    <tr>\n",
       "      <th>39997</th>\n",
       "      <td>https://www.youtube.com/watch?v=JYko5hDmN7Q</td>\n",
       "      <td>39997.0</td>\n",
       "    </tr>\n",
       "    <tr>\n",
       "      <th>39998</th>\n",
       "      <td>https://www.youtube.com/watch?v=t1g5W5ID6f0</td>\n",
       "      <td>39998.0</td>\n",
       "    </tr>\n",
       "    <tr>\n",
       "      <th>39999</th>\n",
       "      <td>https://www.youtube.com/watch?v=tLA83s4L2pI</td>\n",
       "      <td>39999.0</td>\n",
       "    </tr>\n",
       "  </tbody>\n",
       "</table>\n",
       "<p>40000 rows × 2 columns</p>\n",
       "</div>"
      ],
      "text/plain": [
       "                                               url       id\n",
       "0      https://www.youtube.com/watch?v=oak7VyEHvro      0.0\n",
       "1      https://www.youtube.com/watch?v=r89yS7-1Q8A      1.0\n",
       "2      https://www.youtube.com/watch?v=5U7bF68xcRg      2.0\n",
       "3      https://www.youtube.com/watch?v=SS5WtM21RHQ      3.0\n",
       "4      https://www.youtube.com/watch?v=SEZsww9F_yc      4.0\n",
       "...                                            ...      ...\n",
       "39995  https://www.youtube.com/watch?v=Jl0U7F27G3U  39995.0\n",
       "39996  https://www.youtube.com/watch?v=yAjVntEUPyE  39996.0\n",
       "39997  https://www.youtube.com/watch?v=JYko5hDmN7Q  39997.0\n",
       "39998  https://www.youtube.com/watch?v=t1g5W5ID6f0  39998.0\n",
       "39999  https://www.youtube.com/watch?v=tLA83s4L2pI  39999.0\n",
       "\n",
       "[40000 rows x 2 columns]"
      ]
     },
     "execution_count": 4,
     "metadata": {},
     "output_type": "execute_result"
    }
   ],
   "source": [
    "full = pd.concat([a,b], ignore_index=True)\n",
    "full"
   ]
  },
  {
   "cell_type": "code",
   "execution_count": 5,
   "metadata": {},
   "outputs": [
    {
     "data": {
      "text/html": [
       "<div>\n",
       "<style scoped>\n",
       "    .dataframe tbody tr th:only-of-type {\n",
       "        vertical-align: middle;\n",
       "    }\n",
       "\n",
       "    .dataframe tbody tr th {\n",
       "        vertical-align: top;\n",
       "    }\n",
       "\n",
       "    .dataframe thead th {\n",
       "        text-align: right;\n",
       "    }\n",
       "</style>\n",
       "<table border=\"1\" class=\"dataframe\">\n",
       "  <thead>\n",
       "    <tr style=\"text-align: right;\">\n",
       "      <th></th>\n",
       "      <th>url</th>\n",
       "    </tr>\n",
       "  </thead>\n",
       "  <tbody>\n",
       "    <tr>\n",
       "      <th>0</th>\n",
       "      <td>https://www.youtube.com/watch?v=oak7VyEHvro</td>\n",
       "    </tr>\n",
       "    <tr>\n",
       "      <th>1</th>\n",
       "      <td>https://www.youtube.com/watch?v=r89yS7-1Q8A</td>\n",
       "    </tr>\n",
       "    <tr>\n",
       "      <th>2</th>\n",
       "      <td>https://www.youtube.com/watch?v=5U7bF68xcRg</td>\n",
       "    </tr>\n",
       "    <tr>\n",
       "      <th>3</th>\n",
       "      <td>https://www.youtube.com/watch?v=SS5WtM21RHQ</td>\n",
       "    </tr>\n",
       "    <tr>\n",
       "      <th>4</th>\n",
       "      <td>https://www.youtube.com/watch?v=SEZsww9F_yc</td>\n",
       "    </tr>\n",
       "    <tr>\n",
       "      <th>...</th>\n",
       "      <td>...</td>\n",
       "    </tr>\n",
       "    <tr>\n",
       "      <th>39995</th>\n",
       "      <td>https://www.youtube.com/watch?v=Jl0U7F27G3U</td>\n",
       "    </tr>\n",
       "    <tr>\n",
       "      <th>39996</th>\n",
       "      <td>https://www.youtube.com/watch?v=yAjVntEUPyE</td>\n",
       "    </tr>\n",
       "    <tr>\n",
       "      <th>39997</th>\n",
       "      <td>https://www.youtube.com/watch?v=JYko5hDmN7Q</td>\n",
       "    </tr>\n",
       "    <tr>\n",
       "      <th>39998</th>\n",
       "      <td>https://www.youtube.com/watch?v=t1g5W5ID6f0</td>\n",
       "    </tr>\n",
       "    <tr>\n",
       "      <th>39999</th>\n",
       "      <td>https://www.youtube.com/watch?v=tLA83s4L2pI</td>\n",
       "    </tr>\n",
       "  </tbody>\n",
       "</table>\n",
       "<p>40000 rows × 1 columns</p>\n",
       "</div>"
      ],
      "text/plain": [
       "                                               url\n",
       "0      https://www.youtube.com/watch?v=oak7VyEHvro\n",
       "1      https://www.youtube.com/watch?v=r89yS7-1Q8A\n",
       "2      https://www.youtube.com/watch?v=5U7bF68xcRg\n",
       "3      https://www.youtube.com/watch?v=SS5WtM21RHQ\n",
       "4      https://www.youtube.com/watch?v=SEZsww9F_yc\n",
       "...                                            ...\n",
       "39995  https://www.youtube.com/watch?v=Jl0U7F27G3U\n",
       "39996  https://www.youtube.com/watch?v=yAjVntEUPyE\n",
       "39997  https://www.youtube.com/watch?v=JYko5hDmN7Q\n",
       "39998  https://www.youtube.com/watch?v=t1g5W5ID6f0\n",
       "39999  https://www.youtube.com/watch?v=tLA83s4L2pI\n",
       "\n",
       "[40000 rows x 1 columns]"
      ]
     },
     "execution_count": 5,
     "metadata": {},
     "output_type": "execute_result"
    }
   ],
   "source": [
    "urls = full[['url']]\n",
    "urls"
   ]
  },
  {
   "cell_type": "code",
   "execution_count": 16,
   "metadata": {},
   "outputs": [
    {
     "data": {
      "text/plain": [
       "url    NaN\n",
       "Name: 99, dtype: object"
      ]
     },
     "execution_count": 16,
     "metadata": {},
     "output_type": "execute_result"
    }
   ],
   "source": [
    "urls.iloc[99]"
   ]
  },
  {
   "cell_type": "code",
   "execution_count": 6,
   "metadata": {},
   "outputs": [],
   "source": [
    "url_ll = urls.values.tolist()"
   ]
  },
  {
   "cell_type": "code",
   "execution_count": 9,
   "metadata": {},
   "outputs": [
    {
     "data": {
      "text/plain": [
       "array([['https://www.youtube.com/watch?v=oak7VyEHvro'],\n",
       "       ['https://www.youtube.com/watch?v=r89yS7-1Q8A'],\n",
       "       ['https://www.youtube.com/watch?v=5U7bF68xcRg'],\n",
       "       ...,\n",
       "       ['https://www.youtube.com/watch?v=JYko5hDmN7Q'],\n",
       "       ['https://www.youtube.com/watch?v=t1g5W5ID6f0'],\n",
       "       ['https://www.youtube.com/watch?v=tLA83s4L2pI']], dtype='<U43')"
      ]
     },
     "execution_count": 9,
     "metadata": {},
     "output_type": "execute_result"
    }
   ],
   "source": [
    "url_ll = np.array(url_ll)\n",
    "url_ll"
   ]
  },
  {
   "cell_type": "code",
   "execution_count": 12,
   "metadata": {},
   "outputs": [],
   "source": [
    "url_ll = url_ll.flatten()"
   ]
  },
  {
   "cell_type": "code",
   "execution_count": 20,
   "metadata": {},
   "outputs": [
    {
     "name": "stderr",
     "output_type": "stream",
     "text": [
      "100%|██████████| 40000/40000 [00:00<00:00, 596432.05it/s]\n"
     ]
    },
    {
     "data": {
      "text/plain": [
       "304"
      ]
     },
     "execution_count": 20,
     "metadata": {},
     "output_type": "execute_result"
    }
   ],
   "source": [
    "cnt = 0\n",
    "for i in tqdm(url_ll):\n",
    "    if i == 'nan':\n",
    "        cnt += 1\n",
    "cnt"
   ]
  },
  {
   "cell_type": "code",
   "execution_count": 21,
   "metadata": {},
   "outputs": [
    {
     "data": {
      "text/plain": [
       "36393"
      ]
     },
     "execution_count": 21,
     "metadata": {},
     "output_type": "execute_result"
    }
   ],
   "source": [
    "set_url = set(url_ll)\n",
    "len(set_url)"
   ]
  },
  {
   "cell_type": "code",
   "execution_count": 22,
   "metadata": {},
   "outputs": [],
   "source": [
    "full.to_csv('full_music_urls.csv')"
   ]
  },
  {
   "cell_type": "code",
   "execution_count": 10,
   "metadata": {},
   "outputs": [
    {
     "data": {
      "text/plain": [
       "url                                        \n",
       "https://www.youtube.com/watch?v=2jMdRxeZEkQ    17\n",
       "https://www.youtube.com/watch?v=Lq9mIkLa8Fc    17\n",
       "https://www.youtube.com/watch?v=tCarlLNwekA    16\n",
       "https://www.youtube.com/watch?v=9vMh9f41pqE    15\n",
       "https://www.youtube.com/watch?v=97_VJve7UVc    13\n",
       "                                               ..\n",
       "https://www.youtube.com/watch?v=dvOd_ucf10g     1\n",
       "https://www.youtube.com/watch?v=dvSZQ4oMHGM     1\n",
       "https://www.youtube.com/watch?v=dvWIbzqft7w     1\n",
       "https://www.youtube.com/watch?v=dvf--10EYXw     1\n",
       "https://www.youtube.com/watch?v=Uu_Ab2z-RMc     1\n",
       "Length: 36392, dtype: int64"
      ]
     },
     "execution_count": 10,
     "metadata": {},
     "output_type": "execute_result"
    }
   ],
   "source": [
    "full = pd.read_csv('full_music_urls.csv')\n",
    "full[['url']].value_counts()"
   ]
  },
  {
   "cell_type": "code",
   "execution_count": null,
   "metadata": {},
   "outputs": [],
   "source": []
  }
 ],
 "metadata": {
  "interpreter": {
   "hash": "d4d1e4263499bec80672ea0156c357c1ee493ec2b1c70f0acce89fc37c4a6abe"
  },
  "kernelspec": {
   "display_name": "Python 3.8.5 ('base')",
   "language": "python",
   "name": "python3"
  },
  "language_info": {
   "codemirror_mode": {
    "name": "ipython",
    "version": 3
   },
   "file_extension": ".py",
   "mimetype": "text/x-python",
   "name": "python",
   "nbconvert_exporter": "python",
   "pygments_lexer": "ipython3",
   "version": "3.8.5"
  },
  "orig_nbformat": 4
 },
 "nbformat": 4,
 "nbformat_minor": 2
}
