{
 "cells": [
  {
   "cell_type": "code",
   "execution_count": 1,
   "metadata": {},
   "outputs": [],
   "source": [
    "import pandas as pd\n",
    "import numpy as np\n",
    "import os\n",
    "from tqdm import tqdm"
   ]
  },
  {
   "cell_type": "code",
   "execution_count": 2,
   "metadata": {},
   "outputs": [],
   "source": [
    "bookdata = pd.read_csv('/opt/ml/finalproject/book-data/merge_data_re.csv')\n",
    "songdata = pd.read_csv('/opt/ml/finalproject/kakaomusic/top_tag_20000_song2.csv')"
   ]
  },
  {
   "cell_type": "code",
   "execution_count": 3,
   "metadata": {},
   "outputs": [
    {
     "data": {
      "text/html": [
       "<div>\n",
       "<style scoped>\n",
       "    .dataframe tbody tr th:only-of-type {\n",
       "        vertical-align: middle;\n",
       "    }\n",
       "\n",
       "    .dataframe tbody tr th {\n",
       "        vertical-align: top;\n",
       "    }\n",
       "\n",
       "    .dataframe thead th {\n",
       "        text-align: right;\n",
       "    }\n",
       "</style>\n",
       "<table border=\"1\" class=\"dataframe\">\n",
       "  <thead>\n",
       "    <tr style=\"text-align: right;\">\n",
       "      <th></th>\n",
       "      <th>name</th>\n",
       "      <th>isbn</th>\n",
       "      <th>writer</th>\n",
       "      <th>genre</th>\n",
       "      <th>images</th>\n",
       "      <th>raw</th>\n",
       "      <th>keywordpick</th>\n",
       "      <th>keywords</th>\n",
       "      <th>index</th>\n",
       "      <th>line</th>\n",
       "      <th>review</th>\n",
       "      <th>sommelier</th>\n",
       "      <th>intro</th>\n",
       "    </tr>\n",
       "  </thead>\n",
       "  <tbody>\n",
       "    <tr>\n",
       "      <th>0</th>\n",
       "      <td>어느 날, 내 죽음에 네가 들어왔다</td>\n",
       "      <td>9791191043723</td>\n",
       "      <td>세이카 료겐 저/김윤경 역</td>\n",
       "      <td>국내도서 &gt; 소설/시/희곡 &gt; 일본소설 &gt; 일본 장편소설</td>\n",
       "      <td>http://image.yes24.com/goods/109144983/XL</td>\n",
       "      <td>어느 날, 내 죽음에 네가 들어왔다 ,판타지/SF,봄날엔로맨스,세이카 료겐|김윤경,...</td>\n",
       "      <td>소설|일본소설|로맨스|판타지|사랑|인생|</td>\n",
       "      <td>일본소설 청춘소설 로맨스 판타지 시간여행 사신</td>\n",
       "      <td>제1장 죽고 싶어 하는 소녀\\n제2장 비눗방울처럼\\n제3장 지키지도 못할 약속\\n제...</td>\n",
       "      <td>- “곧 죽을 수 있었는데.”\\n이치노세는 팔을 붙잡힌 채 삐친 듯이 말했다. 아니...</td>\n",
       "      <td>“왜 자꾸 내 자살을 방해하는 걸까?”\\n가벼운 마음으로 시작한 자살 방해 작전,\\...</td>\n",
       "      <td>NaN</td>\n",
       "      <td>“나는 네가 살았으면 좋겠어”\\n모든 걸 포기하려던 순간, 기적처럼 시작된 사랑에 ...</td>\n",
       "    </tr>\n",
       "    <tr>\n",
       "      <th>1</th>\n",
       "      <td>오늘 밤, 세계에서 이 사랑이 사라진다 해도</td>\n",
       "      <td>9791191043297</td>\n",
       "      <td>이치조 미사키 저/권영주 역</td>\n",
       "      <td>국내도서 &gt; 소설/시/희곡 &gt; 테마소설 &gt; 연애/사랑소설\\n  국내도서 &gt; 소설...</td>\n",
       "      <td>http://image.yes24.com/goods/102360203/XL</td>\n",
       "      <td>오늘 밤, 세계에서 이 사랑이 사라진다 해도,청춘들에게,봄날엔로맨스,학원물,학원/캠...</td>\n",
       "      <td>일본소설|로맨스소설|연애|청춘 소설|도루|고백|</td>\n",
       "      <td>전격소설대상 일본소설 청춘소설 로맨스소설 선행성기억상실증 조건부연애</td>\n",
       "      <td>모르는 남자애의, 모르는 여자애\\n걸음을 뗀 두 사람\\n이 여름은 언제나 한 번\\n...</td>\n",
       "      <td>“너랑 사귀어도 되지만 조건이 세 개 있어.”\\n설마 고백을 받아들일 줄은 꿈에도 ...</td>\n",
       "      <td>머리는 너를 잊어도, 심장은 너를 잊지 않았어.\\n세상에 단 한 번뿐인 하루, 세상...</td>\n",
       "      <td>NaN</td>\n",
       "      <td>제26회 전격소설대상 ‘미디어워크스문고상’ 수상작\\n총 4,607편의 응모 작품 중...</td>\n",
       "    </tr>\n",
       "    <tr>\n",
       "      <th>2</th>\n",
       "      <td>수상한 중고상점</td>\n",
       "      <td>9791130689241</td>\n",
       "      <td>미치오 슈스케 저/김은모 역</td>\n",
       "      <td>국내도서 &gt; 소설/시/희곡 &gt; 일본소설 &gt; 일본 장편소설</td>\n",
       "      <td>http://image.yes24.com/goods/108787022/XL</td>\n",
       "      <td>수상한 중고상점,문학뉴스레터에소개된책,위로와공감 ,어른이를위한힐링책,치유/힐링,カサ...</td>\n",
       "      <td>위로|상처|미스터리|점장|물건|해결|</td>\n",
       "      <td>사연 해결 위로 환대 따뜻한</td>\n",
       "      <td>봄, 까치로 만든 다리\\n여름, 쓰르라미가 우는 강\\n가을, 남쪽 인연\\n겨울, 귤...</td>\n",
       "      <td>“영의 무생물 이동의 법칙이라. ‘움직이지 않는 물건이라도 누군가에게 방해가 되는 ...</td>\n",
       "      <td>손때 묻고 상처받은 물건도 반짝반짝 새것이 되는 곳\\n수상한 중고상점에서 벌어지는 ...</td>\n",
       "      <td>NaN</td>\n",
       "      <td>“비싸게 사서 싸게 팝니다.\\n아픈 마음까지도 매입합니다!”\\n일본 문학상 그랜드슬...</td>\n",
       "    </tr>\n",
       "    <tr>\n",
       "      <th>3</th>\n",
       "      <td>인간 실격</td>\n",
       "      <td>9788937461033</td>\n",
       "      <td>다자이 오사무 저</td>\n",
       "      <td>국내도서 &gt; 소설/시/희곡 &gt; 일본소설 &gt; 일본 장편소설</td>\n",
       "      <td>http://image.yes24.com/goods/1387488/XL</td>\n",
       "      <td>인간 실격,북클러버의선택,20세기고전,역사와개인,문학으로보는역사,人間失格, 다자이 ...</td>\n",
       "      <td>세계고전문학|일본소설|불안|인간본성|직소|데카당스|</td>\n",
       "      <td>세계고전문학 일본고전 일본소설 자전적소설 수기 인간본성 불안 두려움 위선 파멸</td>\n",
       "      <td>인간 실격\\n- 서문\\n- 첫 번째 수기\\n- 두 번째 수기\\n- 세 번째 수기\\n...</td>\n",
       "      <td>NaN</td>\n",
       "      <td>NaN</td>\n",
       "      <td>NaN</td>\n",
       "      <td>청춘의 한 시기를 통과 의례처럼 거쳐야 하는 일본 데카당스 문학의 대표작\\n\\t\\t...</td>\n",
       "    </tr>\n",
       "    <tr>\n",
       "      <th>4</th>\n",
       "      <td>백광</td>\n",
       "      <td>9791191043617</td>\n",
       "      <td>렌죠 미키히코 저/양윤옥 역</td>\n",
       "      <td>국내도서 &gt; 소설/시/희곡 &gt; 장르소설 &gt; 추리/미스터리\\n  국내도서 &gt; 소설...</td>\n",
       "      <td>http://image.yes24.com/goods/107072836/XL</td>\n",
       "      <td>백광,추리책방,추리책방_추천사를추천합니다,살인사건,추리/미스터리/스릴러,白光 , 렌...</td>\n",
       "      <td>소설|미스터리|반전|트릭|고백|진실|</td>\n",
       "      <td>NaN</td>\n",
       "      <td>1 - 11\\n옮긴이의 말</td>\n",
       "      <td>만세 소리와 아내의 미소로 배웅을 받으며 죽음의 길을 떠났던 전쟁 통의 그날 밤, ...</td>\n",
       "      <td>“이런 작가가 있는데 어떻게 미스터리를 쓸 수 있겠는가!”\\n_다나카 요시키(《은하...</td>\n",
       "      <td>NaN</td>\n",
       "      <td>“저 아이를 죽여 주세요”\\n눈부시게 아찔하고 숨 막히게 매혹적인 치정 미스터리\\n...</td>\n",
       "    </tr>\n",
       "  </tbody>\n",
       "</table>\n",
       "</div>"
      ],
      "text/plain": [
       "                       name           isbn           writer  \\\n",
       "0       어느 날, 내 죽음에 네가 들어왔다  9791191043723   세이카 료겐 저/김윤경 역   \n",
       "1  오늘 밤, 세계에서 이 사랑이 사라진다 해도  9791191043297  이치조 미사키 저/권영주 역   \n",
       "2                  수상한 중고상점  9791130689241  미치오 슈스케 저/김은모 역   \n",
       "3                     인간 실격  9788937461033        다자이 오사무 저   \n",
       "4                        백광  9791191043617  렌죠 미키히코 저/양윤옥 역   \n",
       "\n",
       "                                               genre  \\\n",
       "0                    국내도서 > 소설/시/희곡 > 일본소설 > 일본 장편소설   \n",
       "1    국내도서 > 소설/시/희곡 > 테마소설 > 연애/사랑소설\\n  국내도서 > 소설...   \n",
       "2                    국내도서 > 소설/시/희곡 > 일본소설 > 일본 장편소설   \n",
       "3                    국내도서 > 소설/시/희곡 > 일본소설 > 일본 장편소설   \n",
       "4    국내도서 > 소설/시/희곡 > 장르소설 > 추리/미스터리\\n  국내도서 > 소설...   \n",
       "\n",
       "                                      images  \\\n",
       "0  http://image.yes24.com/goods/109144983/XL   \n",
       "1  http://image.yes24.com/goods/102360203/XL   \n",
       "2  http://image.yes24.com/goods/108787022/XL   \n",
       "3    http://image.yes24.com/goods/1387488/XL   \n",
       "4  http://image.yes24.com/goods/107072836/XL   \n",
       "\n",
       "                                                 raw  \\\n",
       "0  어느 날, 내 죽음에 네가 들어왔다 ,판타지/SF,봄날엔로맨스,세이카 료겐|김윤경,...   \n",
       "1  오늘 밤, 세계에서 이 사랑이 사라진다 해도,청춘들에게,봄날엔로맨스,학원물,학원/캠...   \n",
       "2  수상한 중고상점,문학뉴스레터에소개된책,위로와공감 ,어른이를위한힐링책,치유/힐링,カサ...   \n",
       "3  인간 실격,북클러버의선택,20세기고전,역사와개인,문학으로보는역사,人間失格, 다자이 ...   \n",
       "4  백광,추리책방,추리책방_추천사를추천합니다,살인사건,추리/미스터리/스릴러,白光 , 렌...   \n",
       "\n",
       "                    keywordpick                                     keywords  \\\n",
       "0        소설|일본소설|로맨스|판타지|사랑|인생|                    일본소설 청춘소설 로맨스 판타지 시간여행 사신   \n",
       "1    일본소설|로맨스소설|연애|청춘 소설|도루|고백|        전격소설대상 일본소설 청춘소설 로맨스소설 선행성기억상실증 조건부연애   \n",
       "2          위로|상처|미스터리|점장|물건|해결|                              사연 해결 위로 환대 따뜻한   \n",
       "3  세계고전문학|일본소설|불안|인간본성|직소|데카당스|  세계고전문학 일본고전 일본소설 자전적소설 수기 인간본성 불안 두려움 위선 파멸   \n",
       "4          소설|미스터리|반전|트릭|고백|진실|                                          NaN   \n",
       "\n",
       "                                               index  \\\n",
       "0  제1장 죽고 싶어 하는 소녀\\n제2장 비눗방울처럼\\n제3장 지키지도 못할 약속\\n제...   \n",
       "1  모르는 남자애의, 모르는 여자애\\n걸음을 뗀 두 사람\\n이 여름은 언제나 한 번\\n...   \n",
       "2  봄, 까치로 만든 다리\\n여름, 쓰르라미가 우는 강\\n가을, 남쪽 인연\\n겨울, 귤...   \n",
       "3  인간 실격\\n- 서문\\n- 첫 번째 수기\\n- 두 번째 수기\\n- 세 번째 수기\\n...   \n",
       "4                                     1 - 11\\n옮긴이의 말   \n",
       "\n",
       "                                                line  \\\n",
       "0  - “곧 죽을 수 있었는데.”\\n이치노세는 팔을 붙잡힌 채 삐친 듯이 말했다. 아니...   \n",
       "1  “너랑 사귀어도 되지만 조건이 세 개 있어.”\\n설마 고백을 받아들일 줄은 꿈에도 ...   \n",
       "2  “영의 무생물 이동의 법칙이라. ‘움직이지 않는 물건이라도 누군가에게 방해가 되는 ...   \n",
       "3                                                NaN   \n",
       "4  만세 소리와 아내의 미소로 배웅을 받으며 죽음의 길을 떠났던 전쟁 통의 그날 밤, ...   \n",
       "\n",
       "                                              review sommelier  \\\n",
       "0  “왜 자꾸 내 자살을 방해하는 걸까?”\\n가벼운 마음으로 시작한 자살 방해 작전,\\...       NaN   \n",
       "1  머리는 너를 잊어도, 심장은 너를 잊지 않았어.\\n세상에 단 한 번뿐인 하루, 세상...       NaN   \n",
       "2  손때 묻고 상처받은 물건도 반짝반짝 새것이 되는 곳\\n수상한 중고상점에서 벌어지는 ...       NaN   \n",
       "3                                                NaN       NaN   \n",
       "4  “이런 작가가 있는데 어떻게 미스터리를 쓸 수 있겠는가!”\\n_다나카 요시키(《은하...       NaN   \n",
       "\n",
       "                                               intro  \n",
       "0  “나는 네가 살았으면 좋겠어”\\n모든 걸 포기하려던 순간, 기적처럼 시작된 사랑에 ...  \n",
       "1  제26회 전격소설대상 ‘미디어워크스문고상’ 수상작\\n총 4,607편의 응모 작품 중...  \n",
       "2  “비싸게 사서 싸게 팝니다.\\n아픈 마음까지도 매입합니다!”\\n일본 문학상 그랜드슬...  \n",
       "3  청춘의 한 시기를 통과 의례처럼 거쳐야 하는 일본 데카당스 문학의 대표작\\n\\t\\t...  \n",
       "4  “저 아이를 죽여 주세요”\\n눈부시게 아찔하고 숨 막히게 매혹적인 치정 미스터리\\n...  "
      ]
     },
     "execution_count": 3,
     "metadata": {},
     "output_type": "execute_result"
    }
   ],
   "source": [
    "bookdata.head(5)"
   ]
  },
  {
   "cell_type": "code",
   "execution_count": 3,
   "metadata": {},
   "outputs": [],
   "source": [
    "import torch\n",
    "from transformers import BertTokenizer, BertModel\n",
    "\n",
    "# OPTIONAL: if you want to have more information on what's happening, activate the logger as follows\n",
    "import logging\n",
    "#logging.basicConfig(level=logging.INFO)\n",
    "\n",
    "import matplotlib.pyplot as plt\n",
    "# % matplotlib inline\n",
    "\n",
    "# Load pre-trained model tokenizer (vocabulary)\n",
    "tokenizer = BertTokenizer.from_pretrained('klue/bert-base')"
   ]
  },
  {
   "cell_type": "code",
   "execution_count": 4,
   "metadata": {},
   "outputs": [
    {
     "name": "stdout",
     "output_type": "stream",
     "text": [
      "['[CLS]', '임', '##베', '##딩', '##을', '시도', '##할', '문장', '##이다', '.', '[SEP]']\n"
     ]
    }
   ],
   "source": [
    "text = \"임베딩을 시도할 문장이다.\"\n",
    "marked_text = \"[CLS] \" + text + \" [SEP]\"\n",
    "\n",
    "# Tokenize our sentence with the BERT tokenizer.\n",
    "tokenized_text = tokenizer.tokenize(marked_text)\n",
    "\n",
    "# Print out the tokens.\n",
    "print(tokenized_text)"
   ]
  },
  {
   "cell_type": "code",
   "execution_count": 5,
   "metadata": {},
   "outputs": [
    {
     "name": "stdout",
     "output_type": "stream",
     "text": [
      "[CLS]             2\n",
      "배             1,131\n",
      "##를           2,138\n",
      "타고           11,532\n",
      "여행            4,062\n",
      "##을           2,069\n",
      "간다            6,429\n",
      ".                18\n",
      "추석            6,734\n",
      "##에           2,170\n",
      "먹             1,059\n",
      "##은           2,073\n",
      "배             1,131\n",
      "##가           2,116\n",
      "맛있            4,550\n",
      "##었           2,359\n",
      "##다           2,062\n",
      ".                18\n",
      "[SEP]             3\n"
     ]
    }
   ],
   "source": [
    "# Define a new example sentence with multiple meanings of the word \"bank\"\n",
    "text = \"배를 타고 여행을 간다.\" \\\n",
    "       \"추석에 먹은 배가 맛있었다.\"\n",
    "\n",
    "# Add the special tokens.\n",
    "marked_text = \"[CLS] \" + text + \" [SEP]\"\n",
    "\n",
    "# Split the sentence into tokens.\n",
    "tokenized_text = tokenizer.tokenize(marked_text)\n",
    "\n",
    "# Map the token strings to their vocabulary indeces.\n",
    "indexed_tokens = tokenizer.convert_tokens_to_ids(tokenized_text)\n",
    "\n",
    "# Display the words with their indeces.\n",
    "for tup in zip(tokenized_text, indexed_tokens):\n",
    "    print('{:<12} {:>6,}'.format(tup[0], tup[1]))"
   ]
  },
  {
   "cell_type": "code",
   "execution_count": 6,
   "metadata": {},
   "outputs": [
    {
     "name": "stdout",
     "output_type": "stream",
     "text": [
      "[1, 1, 1, 1, 1, 1, 1, 1, 1, 1, 1, 1, 1, 1, 1, 1, 1, 1, 1]\n"
     ]
    }
   ],
   "source": [
    "# Mark each of the 29 tokens as belonging to sentence \"1\".\n",
    "segments_ids = [1] * len(tokenized_text)\n",
    "\n",
    "print (segments_ids)"
   ]
  },
  {
   "cell_type": "code",
   "execution_count": 7,
   "metadata": {},
   "outputs": [],
   "source": [
    "# Convert inputs to PyTorch tensors\n",
    "tokens_tensor = torch.tensor([indexed_tokens])\n",
    "segments_tensors = torch.tensor([segments_ids])"
   ]
  },
  {
   "cell_type": "code",
   "execution_count": 8,
   "metadata": {},
   "outputs": [
    {
     "data": {
      "text/plain": [
       "tensor([[1, 1, 1, 1, 1, 1, 1, 1, 1, 1, 1, 1, 1, 1, 1, 1, 1, 1, 1]])"
      ]
     },
     "execution_count": 8,
     "metadata": {},
     "output_type": "execute_result"
    }
   ],
   "source": [
    "segments_tensors"
   ]
  },
  {
   "cell_type": "code",
   "execution_count": 12,
   "metadata": {},
   "outputs": [
    {
     "data": {
      "text/plain": [
       "tensor([[   101,   9330,  11513,   9845,  11664,   9565,  88904,   8845,  11903,\n",
       "            119,   9765,  40958,  10530,   9266,  10892,   9330,  11287,   9254,\n",
       "         119192,  17706,    119,    102]])"
      ]
     },
     "execution_count": 12,
     "metadata": {},
     "output_type": "execute_result"
    }
   ],
   "source": [
    "tokens_tensor"
   ]
  },
  {
   "cell_type": "code",
   "execution_count": 9,
   "metadata": {},
   "outputs": [
    {
     "name": "stderr",
     "output_type": "stream",
     "text": [
      "Some weights of the model checkpoint at klue/bert-base were not used when initializing BertModel: ['cls.predictions.decoder.weight', 'cls.predictions.decoder.bias', 'cls.predictions.transform.dense.weight', 'cls.predictions.bias', 'cls.seq_relationship.weight', 'cls.predictions.transform.dense.bias', 'cls.predictions.transform.LayerNorm.weight', 'cls.seq_relationship.bias', 'cls.predictions.transform.LayerNorm.bias']\n",
      "- This IS expected if you are initializing BertModel from the checkpoint of a model trained on another task or with another architecture (e.g. initializing a BertForSequenceClassification model from a BertForPreTraining model).\n",
      "- This IS NOT expected if you are initializing BertModel from the checkpoint of a model that you expect to be exactly identical (initializing a BertForSequenceClassification model from a BertForSequenceClassification model).\n"
     ]
    }
   ],
   "source": [
    "model = BertModel.from_pretrained('klue/bert-base')"
   ]
  },
  {
   "cell_type": "code",
   "execution_count": 10,
   "metadata": {},
   "outputs": [
    {
     "name": "stderr",
     "output_type": "stream",
     "text": [
      "Some weights of the model checkpoint at klue/bert-base were not used when initializing BertModel: ['cls.predictions.decoder.weight', 'cls.predictions.decoder.bias', 'cls.predictions.transform.dense.weight', 'cls.predictions.bias', 'cls.seq_relationship.weight', 'cls.predictions.transform.dense.bias', 'cls.predictions.transform.LayerNorm.weight', 'cls.seq_relationship.bias', 'cls.predictions.transform.LayerNorm.bias']\n",
      "- This IS expected if you are initializing BertModel from the checkpoint of a model trained on another task or with another architecture (e.g. initializing a BertForSequenceClassification model from a BertForPreTraining model).\n",
      "- This IS NOT expected if you are initializing BertModel from the checkpoint of a model that you expect to be exactly identical (initializing a BertForSequenceClassification model from a BertForSequenceClassification model).\n"
     ]
    }
   ],
   "source": [
    "# Run the text through BERT, and collect all of the hidden states produced\n",
    "# from all 12 layers. \n",
    "model = BertModel.from_pretrained('klue/bert-base',\n",
    "                                  output_hidden_states = True, # Whether the model returns all hidden-states.\n",
    "                                  )\n",
    "model.eval()\n",
    "with torch.no_grad():\n",
    "    outputs = model(tokens_tensor, segments_tensors)\n",
    "\n",
    "    # Evaluating the model will return a different number of objects based on \n",
    "    # how it's  configured in the `from_pretrained` call earlier. In this case, \n",
    "    # becase we set `output_hidden_states = True`, the third item will be the \n",
    "    # hidden states from all layers. See the documentation for more details:\n",
    "    # https://huggingface.co/transformers/model_doc/bert.html#bertmodel\n",
    "    hidden_states = outputs[2]"
   ]
  },
  {
   "cell_type": "code",
   "execution_count": 27,
   "metadata": {},
   "outputs": [
    {
     "name": "stdout",
     "output_type": "stream",
     "text": [
      "Number of layers: 13   (initial embeddings + 12 BERT layers)\n",
      "Number of batches: 1\n",
      "Number of tokens: 19\n",
      "Number of hidden units: 768\n"
     ]
    }
   ],
   "source": [
    "print (\"Number of layers:\", len(hidden_states), \"  (initial embeddings + 12 BERT layers)\")\n",
    "layer_i = 0\n",
    "\n",
    "print (\"Number of batches:\", len(hidden_states[layer_i]))\n",
    "batch_i = 0\n",
    "\n",
    "print (\"Number of tokens:\", len(hidden_states[layer_i][batch_i]))\n",
    "token_i = 0\n",
    "\n",
    "print (\"Number of hidden units:\", len(hidden_states[layer_i][batch_i][token_i]))"
   ]
  },
  {
   "cell_type": "code",
   "execution_count": 28,
   "metadata": {},
   "outputs": [
    {
     "data": {
      "text/plain": [
       "3"
      ]
     },
     "execution_count": 28,
     "metadata": {},
     "output_type": "execute_result"
    }
   ],
   "source": [
    "len(outputs)"
   ]
  },
  {
   "cell_type": "code",
   "execution_count": 29,
   "metadata": {},
   "outputs": [
    {
     "name": "stdout",
     "output_type": "stream",
     "text": [
      "      Type of hidden_states:  <class 'tuple'>\n",
      "Tensor shape for each layer:  torch.Size([1, 19, 768])\n"
     ]
    }
   ],
   "source": [
    "# `hidden_states` is a Python list.\n",
    "print('      Type of hidden_states: ', type(hidden_states))\n",
    "\n",
    "# Each layer in the list is a torch tensor.\n",
    "print('Tensor shape for each layer: ', hidden_states[0].size())\n"
   ]
  },
  {
   "cell_type": "code",
   "execution_count": 11,
   "metadata": {},
   "outputs": [
    {
     "data": {
      "text/plain": [
       "torch.Size([13, 1, 19, 768])"
      ]
     },
     "execution_count": 11,
     "metadata": {},
     "output_type": "execute_result"
    }
   ],
   "source": [
    "# Concatenate the tensors for all layers. We use `stack` here to\n",
    "# create a new dimension in the tensor.\n",
    "token_embeddings = torch.stack(hidden_states, dim=0)\n",
    "\n",
    "token_embeddings.size()"
   ]
  },
  {
   "cell_type": "code",
   "execution_count": 12,
   "metadata": {},
   "outputs": [
    {
     "data": {
      "text/plain": [
       "torch.Size([13, 19, 768])"
      ]
     },
     "execution_count": 12,
     "metadata": {},
     "output_type": "execute_result"
    }
   ],
   "source": [
    "token_embeddings = torch.squeeze(token_embeddings, dim=1)\n",
    "\n",
    "token_embeddings.size()"
   ]
  },
  {
   "cell_type": "code",
   "execution_count": 13,
   "metadata": {},
   "outputs": [
    {
     "data": {
      "text/plain": [
       "torch.Size([19, 13, 768])"
      ]
     },
     "execution_count": 13,
     "metadata": {},
     "output_type": "execute_result"
    }
   ],
   "source": [
    "# Swap dimensions 0 and 1.\n",
    "token_embeddings = token_embeddings.permute(1,0,2)\n",
    "\n",
    "token_embeddings.size()\n"
   ]
  },
  {
   "cell_type": "code",
   "execution_count": 14,
   "metadata": {},
   "outputs": [],
   "source": [
    "token_vecs = hidden_states[-2][0]\n",
    "\n",
    "# Calculate the average of all 36 token vectors.\n",
    "sentence_embedding = torch.mean(token_vecs, dim=0)"
   ]
  },
  {
   "cell_type": "code",
   "execution_count": 35,
   "metadata": {},
   "outputs": [],
   "source": [
    "# sentence_embedding"
   ]
  },
  {
   "cell_type": "code",
   "execution_count": 36,
   "metadata": {},
   "outputs": [],
   "source": [
    "from scipy.spatial.distance import cosine\n"
   ]
  },
  {
   "cell_type": "code",
   "execution_count": null,
   "metadata": {},
   "outputs": [],
   "source": [
    "diff_배 = 1 - cosine(token_vecs_sum[10], token_vecs_sum[19])\n"
   ]
  },
  {
   "cell_type": "markdown",
   "metadata": {},
   "source": [
    "> # 잘돌아가나???"
   ]
  },
  {
   "cell_type": "code",
   "execution_count": 16,
   "metadata": {},
   "outputs": [],
   "source": [
    "import re\n",
    "# ex1 = re.split(\"[.'\\n']\",bookdata['intro'][0])\n",
    "# ex2 = re.sub('\\n',bookdata['intro'][0])\n",
    "# ex1 = bookdata['intro'][0].split(\"\\n\")"
   ]
  },
  {
   "cell_type": "code",
   "execution_count": 66,
   "metadata": {},
   "outputs": [
    {
     "data": {
      "text/plain": [
       "''"
      ]
     },
     "execution_count": 66,
     "metadata": {},
     "output_type": "execute_result"
    }
   ],
   "source": [
    "import re\n",
    "ex2 = re.sub('\\n',bookdata['intro'][0],'')\n",
    "ex2"
   ]
  },
  {
   "cell_type": "code",
   "execution_count": 39,
   "metadata": {},
   "outputs": [],
   "source": [
    "# !pip install sentence_transformers"
   ]
  },
  {
   "cell_type": "code",
   "execution_count": 17,
   "metadata": {},
   "outputs": [],
   "source": [
    "import numpy as np\n",
    "import pandas as pd\n",
    "from numpy import dot\n",
    "from numpy.linalg import norm\n",
    "import urllib.request\n",
    "from sentence_transformers import SentenceTransformer"
   ]
  },
  {
   "cell_type": "code",
   "execution_count": 41,
   "metadata": {},
   "outputs": [
    {
     "data": {
      "text/html": [
       "<div>\n",
       "<style scoped>\n",
       "    .dataframe tbody tr th:only-of-type {\n",
       "        vertical-align: middle;\n",
       "    }\n",
       "\n",
       "    .dataframe tbody tr th {\n",
       "        vertical-align: top;\n",
       "    }\n",
       "\n",
       "    .dataframe thead th {\n",
       "        text-align: right;\n",
       "    }\n",
       "</style>\n",
       "<table border=\"1\" class=\"dataframe\">\n",
       "  <thead>\n",
       "    <tr style=\"text-align: right;\">\n",
       "      <th></th>\n",
       "      <th>Q</th>\n",
       "      <th>A</th>\n",
       "      <th>label</th>\n",
       "    </tr>\n",
       "  </thead>\n",
       "  <tbody>\n",
       "    <tr>\n",
       "      <th>0</th>\n",
       "      <td>12시 땡!</td>\n",
       "      <td>하루가 또 가네요.</td>\n",
       "      <td>0</td>\n",
       "    </tr>\n",
       "    <tr>\n",
       "      <th>1</th>\n",
       "      <td>1지망 학교 떨어졌어</td>\n",
       "      <td>위로해 드립니다.</td>\n",
       "      <td>0</td>\n",
       "    </tr>\n",
       "    <tr>\n",
       "      <th>2</th>\n",
       "      <td>3박4일 놀러가고 싶다</td>\n",
       "      <td>여행은 언제나 좋죠.</td>\n",
       "      <td>0</td>\n",
       "    </tr>\n",
       "    <tr>\n",
       "      <th>3</th>\n",
       "      <td>3박4일 정도 놀러가고 싶다</td>\n",
       "      <td>여행은 언제나 좋죠.</td>\n",
       "      <td>0</td>\n",
       "    </tr>\n",
       "    <tr>\n",
       "      <th>4</th>\n",
       "      <td>PPL 심하네</td>\n",
       "      <td>눈살이 찌푸려지죠.</td>\n",
       "      <td>0</td>\n",
       "    </tr>\n",
       "  </tbody>\n",
       "</table>\n",
       "</div>"
      ],
      "text/plain": [
       "                 Q            A  label\n",
       "0           12시 땡!   하루가 또 가네요.      0\n",
       "1      1지망 학교 떨어졌어    위로해 드립니다.      0\n",
       "2     3박4일 놀러가고 싶다  여행은 언제나 좋죠.      0\n",
       "3  3박4일 정도 놀러가고 싶다  여행은 언제나 좋죠.      0\n",
       "4          PPL 심하네   눈살이 찌푸려지죠.      0"
      ]
     },
     "execution_count": 41,
     "metadata": {},
     "output_type": "execute_result"
    }
   ],
   "source": [
    "urllib.request.urlretrieve(\"https://raw.githubusercontent.com/songys/Chatbot_data/master/ChatbotData.csv\", filename=\"ChatBotData.csv\")\n",
    "train_data = pd.read_csv('ChatBotData.csv')\n",
    "train_data.head()"
   ]
  },
  {
   "cell_type": "code",
   "execution_count": 48,
   "metadata": {},
   "outputs": [],
   "source": [
    "len(train_data)\n",
    "train = train_data.loc[:1000]"
   ]
  },
  {
   "cell_type": "code",
   "execution_count": 18,
   "metadata": {},
   "outputs": [],
   "source": [
    "model = SentenceTransformer('sentence-transformers/xlm-r-100langs-bert-base-nli-stsb-mean-tokens')\n"
   ]
  },
  {
   "cell_type": "code",
   "execution_count": 45,
   "metadata": {},
   "outputs": [
    {
     "name": "stderr",
     "output_type": "stream",
     "text": [
      "0it [00:00, ?it/s]\n",
      "TqdmDeprecationWarning: Please use `tqdm.pandas(...)` instead of `tqdm_pandas(tqdm(...))`.\n"
     ]
    }
   ],
   "source": [
    "from tqdm import tqdm,tqdm_pandas\n",
    "tqdm_pandas(tqdm())"
   ]
  },
  {
   "cell_type": "code",
   "execution_count": 49,
   "metadata": {},
   "outputs": [
    {
     "name": "stderr",
     "output_type": "stream",
     "text": [
      "/tmp/ipykernel_31669/560203640.py:1: SettingWithCopyWarning: \n",
      "A value is trying to be set on a copy of a slice from a DataFrame.\n",
      "Try using .loc[row_indexer,col_indexer] = value instead\n",
      "\n",
      "See the caveats in the documentation: https://pandas.pydata.org/pandas-docs/stable/user_guide/indexing.html#returning-a-view-versus-a-copy\n",
      "  train['embedding'] = train.apply(lambda row: model.encode(row.Q), axis = 1)\n"
     ]
    }
   ],
   "source": [
    "train['embedding'] = train.apply(lambda row: model.encode(row.Q), axis = 1)\n"
   ]
  },
  {
   "cell_type": "code",
   "execution_count": 19,
   "metadata": {},
   "outputs": [],
   "source": [
    "def cos_sim(A, B):\n",
    "  return dot(A, B)/(norm(A)*norm(B))"
   ]
  },
  {
   "cell_type": "code",
   "execution_count": 64,
   "metadata": {},
   "outputs": [],
   "source": [
    "def return_answer(question):\n",
    "    embedding = model.encode(question)\n",
    "    train['score'] = train.apply(lambda x: cos_sim(x['embedding'], embedding), axis=1)\n",
    "    return train.loc[train['score'].idxmax()]['Q']"
   ]
  },
  {
   "cell_type": "code",
   "execution_count": 63,
   "metadata": {},
   "outputs": [
    {
     "name": "stderr",
     "output_type": "stream",
     "text": [
      "/tmp/ipykernel_31669/132280281.py:3: SettingWithCopyWarning: \n",
      "A value is trying to be set on a copy of a slice from a DataFrame.\n",
      "Try using .loc[row_indexer,col_indexer] = value instead\n",
      "\n",
      "See the caveats in the documentation: https://pandas.pydata.org/pandas-docs/stable/user_guide/indexing.html#returning-a-view-versus-a-copy\n",
      "  train['score'] = train.apply(lambda x: cos_sim(x['embedding'], embedding), axis=1)\n"
     ]
    },
    {
     "data": {
      "text/plain": [
       "'누구나 걱정은 있어요.'"
      ]
     },
     "execution_count": 63,
     "metadata": {},
     "output_type": "execute_result"
    }
   ],
   "source": [
    "return_answer(ex1[0])"
   ]
  },
  {
   "cell_type": "markdown",
   "metadata": {},
   "source": [
    "> # 평균"
   ]
  },
  {
   "cell_type": "code",
   "execution_count": 20,
   "metadata": {},
   "outputs": [
    {
     "data": {
      "text/html": [
       "<div>\n",
       "<style scoped>\n",
       "    .dataframe tbody tr th:only-of-type {\n",
       "        vertical-align: middle;\n",
       "    }\n",
       "\n",
       "    .dataframe tbody tr th {\n",
       "        vertical-align: top;\n",
       "    }\n",
       "\n",
       "    .dataframe thead th {\n",
       "        text-align: right;\n",
       "    }\n",
       "</style>\n",
       "<table border=\"1\" class=\"dataframe\">\n",
       "  <thead>\n",
       "    <tr style=\"text-align: right;\">\n",
       "      <th></th>\n",
       "      <th>name</th>\n",
       "      <th>index</th>\n",
       "      <th>intro</th>\n",
       "      <th>review</th>\n",
       "    </tr>\n",
       "  </thead>\n",
       "  <tbody>\n",
       "    <tr>\n",
       "      <th>4987</th>\n",
       "      <td>그림동화전집 1</td>\n",
       "      <td>메르헨의 즐거움을 찾아서-고산고정일 … 3\\n\\n\\n\\nKHM 001 개구리 왕자 ...</td>\n",
       "      <td>252작품 원전완역 결정판 『그림동화전집』 제1권. 이번 완역결정판에는 그림동화 작...</td>\n",
       "      <td>한국 최초 원전완역결정판《그림형제동화전집》출간!\\n\\n온 가족이 읽는 인류의 소망 ...</td>\n",
       "    </tr>\n",
       "    <tr>\n",
       "      <th>9738</th>\n",
       "      <td>알렉산드로스 2</td>\n",
       "      <td>NaN</td>\n",
       "      <td>위대한 정복자 알렉산드로스의 궤적을 생생하게 복원한 역사소설. 32세 나이에 페르시...</td>\n",
       "      <td>인류 역사상 가장 오묘한 인물, 알렉산드로스의 매력을 극대화한 소설\\n\\n역사소설이...</td>\n",
       "    </tr>\n",
       "    <tr>\n",
       "      <th>4350</th>\n",
       "      <td>미크로메가스 외</td>\n",
       "      <td>해설 \\n\\n\\n\\n지은이에 대해\\n\\n\\n\\n미크로메가스 \\n\\n세상 돌아가는 대...</td>\n",
       "      <td>■ 이 책은 볼떼르의 5개 작품을 싣고 있습니다. \\n\\n■ 프랑스어 등의 외래어 ...</td>\n",
       "      <td>국내 최초 소개\\n\\n볼테르가 인식하고 있는 인간과, 그 인간이 깃들이고 있는 지구...</td>\n",
       "    </tr>\n",
       "    <tr>\n",
       "      <th>4438</th>\n",
       "      <td>프랑스 스케치</td>\n",
       "      <td>NaN</td>\n",
       "      <td>&lt;얼굴 빨개지는 아이&gt;, &lt;자전거를 못 타는 아이&gt;, &lt;파리 스케치&gt;의 작가, 장자...</td>\n",
       "      <td>NaN</td>\n",
       "    </tr>\n",
       "    <tr>\n",
       "      <th>4183</th>\n",
       "      <td>어린왕자 미니북 세트</td>\n",
       "      <td>어린 왕자\\n\\n작품 해설│어린 왕자와 관계를 맺는 순간 삶의 진정한 가치를 만난다...</td>\n",
       "      <td>순수한 영혼 어린 왕자가 알려주는 삶의 의미!\\n\\t\\t \\n\\t\\n\\t\\n\\t\\t...</td>\n",
       "      <td>전 세계인이 가장 사랑한 고전, 영원한 스테디셀러\\n\\n세상에서 가장 순수한 영혼,...</td>\n",
       "    </tr>\n",
       "  </tbody>\n",
       "</table>\n",
       "</div>"
      ],
      "text/plain": [
       "             name                                              index  \\\n",
       "4987     그림동화전집 1  메르헨의 즐거움을 찾아서-고산고정일 … 3\\n\\n\\n\\nKHM 001 개구리 왕자 ...   \n",
       "9738     알렉산드로스 2                                                NaN   \n",
       "4350     미크로메가스 외  해설 \\n\\n\\n\\n지은이에 대해\\n\\n\\n\\n미크로메가스 \\n\\n세상 돌아가는 대...   \n",
       "4438      프랑스 스케치                                                NaN   \n",
       "4183  어린왕자 미니북 세트  어린 왕자\\n\\n작품 해설│어린 왕자와 관계를 맺는 순간 삶의 진정한 가치를 만난다...   \n",
       "\n",
       "                                                  intro  \\\n",
       "4987  252작품 원전완역 결정판 『그림동화전집』 제1권. 이번 완역결정판에는 그림동화 작...   \n",
       "9738  위대한 정복자 알렉산드로스의 궤적을 생생하게 복원한 역사소설. 32세 나이에 페르시...   \n",
       "4350  ■ 이 책은 볼떼르의 5개 작품을 싣고 있습니다. \\n\\n■ 프랑스어 등의 외래어 ...   \n",
       "4438  <얼굴 빨개지는 아이>, <자전거를 못 타는 아이>, <파리 스케치>의 작가, 장자...   \n",
       "4183  순수한 영혼 어린 왕자가 알려주는 삶의 의미!\\n\\t\\t \\n\\t\\n\\t\\n\\t\\t...   \n",
       "\n",
       "                                                 review  \n",
       "4987  한국 최초 원전완역결정판《그림형제동화전집》출간!\\n\\n온 가족이 읽는 인류의 소망 ...  \n",
       "9738  인류 역사상 가장 오묘한 인물, 알렉산드로스의 매력을 극대화한 소설\\n\\n역사소설이...  \n",
       "4350  국내 최초 소개\\n\\n볼테르가 인식하고 있는 인간과, 그 인간이 깃들이고 있는 지구...  \n",
       "4438                                                NaN  \n",
       "4183  전 세계인이 가장 사랑한 고전, 영원한 스테디셀러\\n\\n세상에서 가장 순수한 영혼,...  "
      ]
     },
     "execution_count": 20,
     "metadata": {},
     "output_type": "execute_result"
    }
   ],
   "source": [
    "booksample = bookdata.sample(5)\n",
    "booksample\n",
    "minisample = booksample[['name','index','intro','review']]\n",
    "minisample"
   ]
  },
  {
   "cell_type": "code",
   "execution_count": 21,
   "metadata": {},
   "outputs": [],
   "source": [
    "def return_answer(question):\n",
    "    embedding = model.encode(question)\n",
    "    train['score'] = train.apply(lambda x: cos_sim(x['embedding'], embedding), axis=1)\n",
    "    return train.loc[train['score'].idxmax()]['Q']"
   ]
  },
  {
   "cell_type": "code",
   "execution_count": 22,
   "metadata": {},
   "outputs": [],
   "source": [
    "minisample_ll = minisample.values.tolist()\n",
    "# minisample_ll[0]"
   ]
  },
  {
   "cell_type": "code",
   "execution_count": 81,
   "metadata": {},
   "outputs": [
    {
     "data": {
      "text/plain": [
       "array([2., 3., 4., 5., 6.])"
      ]
     },
     "execution_count": 81,
     "metadata": {},
     "output_type": "execute_result"
    }
   ],
   "source": [
    "a = np.array([1,2,3,4,5])\n",
    "b = np.array([3,4,5,6,7])\n",
    "(a + b)/2\n"
   ]
  },
  {
   "cell_type": "code",
   "execution_count": 94,
   "metadata": {},
   "outputs": [
    {
     "name": "stdout",
     "output_type": "stream",
     "text": [
      "[-0.07355265  0.2414239   1.7733856   0.21062578  0.18702191]\n",
      "[ 0.32359794 -0.67105293  1.9204549   0.5807152  -0.24775094]\n"
     ]
    }
   ],
   "source": [
    "a = model.encode('사랑')\n",
    "b = model.encode('집착')\n",
    "print(a[:5])\n",
    "print(b[:5])\n",
    "# print((a+b)[:5])\n",
    "# (a+b)[:5]/2\n",
    "\n"
   ]
  },
  {
   "cell_type": "code",
   "execution_count": null,
   "metadata": {},
   "outputs": [],
   "source": [
    "minisample[minisample['']]"
   ]
  },
  {
   "cell_type": "code",
   "execution_count": 32,
   "metadata": {},
   "outputs": [
    {
     "name": "stderr",
     "output_type": "stream",
     "text": [
      "/tmp/ipykernel_21172/999957682.py:23: SettingWithCopyWarning: \n",
      "A value is trying to be set on a copy of a slice from a DataFrame.\n",
      "Try using .loc[row_indexer,col_indexer] = value instead\n",
      "\n",
      "See the caveats in the documentation: https://pandas.pydata.org/pandas-docs/stable/user_guide/indexing.html#returning-a-view-versus-a-copy\n",
      "  minisample['embedding'] = embeddings\n"
     ]
    },
    {
     "data": {
      "text/html": [
       "<div>\n",
       "<style scoped>\n",
       "    .dataframe tbody tr th:only-of-type {\n",
       "        vertical-align: middle;\n",
       "    }\n",
       "\n",
       "    .dataframe tbody tr th {\n",
       "        vertical-align: top;\n",
       "    }\n",
       "\n",
       "    .dataframe thead th {\n",
       "        text-align: right;\n",
       "    }\n",
       "</style>\n",
       "<table border=\"1\" class=\"dataframe\">\n",
       "  <thead>\n",
       "    <tr style=\"text-align: right;\">\n",
       "      <th></th>\n",
       "      <th>name</th>\n",
       "      <th>index</th>\n",
       "      <th>intro</th>\n",
       "      <th>review</th>\n",
       "      <th>embedding</th>\n",
       "    </tr>\n",
       "  </thead>\n",
       "  <tbody>\n",
       "    <tr>\n",
       "      <th>4987</th>\n",
       "      <td>그림동화전집 1</td>\n",
       "      <td>메르헨의 즐거움을 찾아서-고산고정일 … 3\\n\\n\\n\\nKHM 001 개구리 왕자 ...</td>\n",
       "      <td>252작품 원전완역 결정판 『그림동화전집』 제1권. 이번 완역결정판에는 그림동화 작...</td>\n",
       "      <td>한국 최초 원전완역결정판《그림형제동화전집》출간!\\n\\n온 가족이 읽는 인류의 소망 ...</td>\n",
       "      <td>[-0.007877264, 0.21996626, 0.8149987, 0.056343...</td>\n",
       "    </tr>\n",
       "    <tr>\n",
       "      <th>9738</th>\n",
       "      <td>알렉산드로스 2</td>\n",
       "      <td>NaN</td>\n",
       "      <td>위대한 정복자 알렉산드로스의 궤적을 생생하게 복원한 역사소설. 32세 나이에 페르시...</td>\n",
       "      <td>인류 역사상 가장 오묘한 인물, 알렉산드로스의 매력을 극대화한 소설\\n\\n역사소설이...</td>\n",
       "      <td>[-0.033535894, -0.08539312, 0.7183878, 0.09397...</td>\n",
       "    </tr>\n",
       "    <tr>\n",
       "      <th>4350</th>\n",
       "      <td>미크로메가스 외</td>\n",
       "      <td>해설 \\n\\n\\n\\n지은이에 대해\\n\\n\\n\\n미크로메가스 \\n\\n세상 돌아가는 대...</td>\n",
       "      <td>■ 이 책은 볼떼르의 5개 작품을 싣고 있습니다. \\n\\n■ 프랑스어 등의 외래어 ...</td>\n",
       "      <td>국내 최초 소개\\n\\n볼테르가 인식하고 있는 인간과, 그 인간이 깃들이고 있는 지구...</td>\n",
       "      <td>[0.017699426, 0.19776164, 0.73945665, 0.009871...</td>\n",
       "    </tr>\n",
       "    <tr>\n",
       "      <th>4438</th>\n",
       "      <td>프랑스 스케치</td>\n",
       "      <td>NaN</td>\n",
       "      <td>&lt;얼굴 빨개지는 아이&gt;, &lt;자전거를 못 타는 아이&gt;, &lt;파리 스케치&gt;의 작가, 장자...</td>\n",
       "      <td>NaN</td>\n",
       "      <td>[-0.44242093, 0.007630398, 0.074327245, 0.0571...</td>\n",
       "    </tr>\n",
       "    <tr>\n",
       "      <th>4183</th>\n",
       "      <td>어린왕자 미니북 세트</td>\n",
       "      <td>어린 왕자\\n\\n작품 해설│어린 왕자와 관계를 맺는 순간 삶의 진정한 가치를 만난다...</td>\n",
       "      <td>순수한 영혼 어린 왕자가 알려주는 삶의 의미!\\n\\t\\t \\n\\t\\n\\t\\n\\t\\t...</td>\n",
       "      <td>전 세계인이 가장 사랑한 고전, 영원한 스테디셀러\\n\\n세상에서 가장 순수한 영혼,...</td>\n",
       "      <td>[-0.15334705, 0.07812645, 0.91287047, 0.037772...</td>\n",
       "    </tr>\n",
       "  </tbody>\n",
       "</table>\n",
       "</div>"
      ],
      "text/plain": [
       "             name                                              index  \\\n",
       "4987     그림동화전집 1  메르헨의 즐거움을 찾아서-고산고정일 … 3\\n\\n\\n\\nKHM 001 개구리 왕자 ...   \n",
       "9738     알렉산드로스 2                                                NaN   \n",
       "4350     미크로메가스 외  해설 \\n\\n\\n\\n지은이에 대해\\n\\n\\n\\n미크로메가스 \\n\\n세상 돌아가는 대...   \n",
       "4438      프랑스 스케치                                                NaN   \n",
       "4183  어린왕자 미니북 세트  어린 왕자\\n\\n작품 해설│어린 왕자와 관계를 맺는 순간 삶의 진정한 가치를 만난다...   \n",
       "\n",
       "                                                  intro  \\\n",
       "4987  252작품 원전완역 결정판 『그림동화전집』 제1권. 이번 완역결정판에는 그림동화 작...   \n",
       "9738  위대한 정복자 알렉산드로스의 궤적을 생생하게 복원한 역사소설. 32세 나이에 페르시...   \n",
       "4350  ■ 이 책은 볼떼르의 5개 작품을 싣고 있습니다. \\n\\n■ 프랑스어 등의 외래어 ...   \n",
       "4438  <얼굴 빨개지는 아이>, <자전거를 못 타는 아이>, <파리 스케치>의 작가, 장자...   \n",
       "4183  순수한 영혼 어린 왕자가 알려주는 삶의 의미!\\n\\t\\t \\n\\t\\n\\t\\n\\t\\t...   \n",
       "\n",
       "                                                 review  \\\n",
       "4987  한국 최초 원전완역결정판《그림형제동화전집》출간!\\n\\n온 가족이 읽는 인류의 소망 ...   \n",
       "9738  인류 역사상 가장 오묘한 인물, 알렉산드로스의 매력을 극대화한 소설\\n\\n역사소설이...   \n",
       "4350  국내 최초 소개\\n\\n볼테르가 인식하고 있는 인간과, 그 인간이 깃들이고 있는 지구...   \n",
       "4438                                                NaN   \n",
       "4183  전 세계인이 가장 사랑한 고전, 영원한 스테디셀러\\n\\n세상에서 가장 순수한 영혼,...   \n",
       "\n",
       "                                              embedding  \n",
       "4987  [-0.007877264, 0.21996626, 0.8149987, 0.056343...  \n",
       "9738  [-0.033535894, -0.08539312, 0.7183878, 0.09397...  \n",
       "4350  [0.017699426, 0.19776164, 0.73945665, 0.009871...  \n",
       "4438  [-0.44242093, 0.007630398, 0.074327245, 0.0571...  \n",
       "4183  [-0.15334705, 0.07812645, 0.91287047, 0.037772...  "
      ]
     },
     "execution_count": 32,
     "metadata": {},
     "output_type": "execute_result"
    }
   ],
   "source": [
    "import numpy as np\n",
    "import re\n",
    "\n",
    "embeddings = []\n",
    "for row in minisample_ll:\n",
    "    # print(row[2])\n",
    "    sentence_ll = []\n",
    "    vector_ll = []\n",
    "    for column in row:\n",
    "        if not pd.isna(column):\n",
    "            temp = re.split(\"[.'\\n']\",column)\n",
    "        # print(temp)\n",
    "        for i in temp:\n",
    "            if i != '':\n",
    "                sentence_ll.append(i)\n",
    "        # print(sentence_ll)\n",
    "        vectorsum = 0\n",
    "        for sentence in sentence_ll:\n",
    "            vectorsum += model.encode(sentence)\n",
    "        vectorsum = vectorsum/len(sentence_ll)\n",
    "    embeddings.append(vectorsum)\n",
    "            \n",
    "minisample['embedding'] = embeddings\n",
    "minisample\n"
   ]
  },
  {
   "cell_type": "code",
   "execution_count": 34,
   "metadata": {},
   "outputs": [
    {
     "data": {
      "text/html": [
       "<div>\n",
       "<style scoped>\n",
       "    .dataframe tbody tr th:only-of-type {\n",
       "        vertical-align: middle;\n",
       "    }\n",
       "\n",
       "    .dataframe tbody tr th {\n",
       "        vertical-align: top;\n",
       "    }\n",
       "\n",
       "    .dataframe thead th {\n",
       "        text-align: right;\n",
       "    }\n",
       "</style>\n",
       "<table border=\"1\" class=\"dataframe\">\n",
       "  <thead>\n",
       "    <tr style=\"text-align: right;\">\n",
       "      <th></th>\n",
       "      <th>song_id</th>\n",
       "      <th>song_title</th>\n",
       "      <th>playlist_tag</th>\n",
       "      <th>playlist_title</th>\n",
       "    </tr>\n",
       "  </thead>\n",
       "  <tbody>\n",
       "    <tr>\n",
       "      <th>11220</th>\n",
       "      <td>582263</td>\n",
       "      <td>When We Were Young</td>\n",
       "      <td>Chill|K팝스타|K팝스타6|K팝스타시즌6|OST|OST모음|OST포함|RnB|b...</td>\n",
       "      <td>일단 한 번 들어봐_한 번 들으면 계속 듣고싶은 팝송|\" Good Vibe \" 　P...</td>\n",
       "    </tr>\n",
       "    <tr>\n",
       "      <th>3163</th>\n",
       "      <td>638658</td>\n",
       "      <td>Turning</td>\n",
       "      <td>Chill|Pop|RnB|soul|가을|감각|감미로운|감성|겨울|고막여친|그루브|그...</td>\n",
       "      <td>듣자마자 나도 모르게 리듬 타게 되는 리드미컬한 감성 POP (상시업뎃)|CLOUD...</td>\n",
       "    </tr>\n",
       "    <tr>\n",
       "      <th>4022</th>\n",
       "      <td>493420</td>\n",
       "      <td>A Song For You</td>\n",
       "      <td>1970년대|1980년대|70s|70년대|80년대|BTOBTIME|Bar에서|Fee...</td>\n",
       "      <td>píαnσ pσp, 불안한 우리의 감성 속으로 o ॰ ॰ |R&amp;B/Soul 모음|최...</td>\n",
       "    </tr>\n",
       "    <tr>\n",
       "      <th>11723</th>\n",
       "      <td>600431</td>\n",
       "      <td>UP &amp; DOWN (Feat. Risso)</td>\n",
       "      <td>GUITAR|OST|OST모음|happy|가그맨|가을|가을노래|가을송|감성|개그맨|...</td>\n",
       "      <td>빵야빵야 심장을 저격하는 감성 플레이리스트|남자친구에게 불러줄 사랑스러운 노래❤|봄...</td>\n",
       "    </tr>\n",
       "    <tr>\n",
       "      <th>18226</th>\n",
       "      <td>603057</td>\n",
       "      <td>Hwi hwi</td>\n",
       "      <td>1위|2000년대|2017|2018|4월|5월_3주차|Pop|RnB|Summer|U...</td>\n",
       "      <td>혼자 운동할때 듣기 좋은 노래|2017 뜨거웠던 여름을 함께보낸 음악|숨겨진 주옥같...</td>\n",
       "    </tr>\n",
       "  </tbody>\n",
       "</table>\n",
       "</div>"
      ],
      "text/plain": [
       "       song_id               song_title  \\\n",
       "11220   582263       When We Were Young   \n",
       "3163    638658                  Turning   \n",
       "4022    493420          A Song For You    \n",
       "11723   600431  UP & DOWN (Feat. Risso)   \n",
       "18226   603057                  Hwi hwi   \n",
       "\n",
       "                                            playlist_tag  \\\n",
       "11220  Chill|K팝스타|K팝스타6|K팝스타시즌6|OST|OST모음|OST포함|RnB|b...   \n",
       "3163   Chill|Pop|RnB|soul|가을|감각|감미로운|감성|겨울|고막여친|그루브|그...   \n",
       "4022   1970년대|1980년대|70s|70년대|80년대|BTOBTIME|Bar에서|Fee...   \n",
       "11723  GUITAR|OST|OST모음|happy|가그맨|가을|가을노래|가을송|감성|개그맨|...   \n",
       "18226  1위|2000년대|2017|2018|4월|5월_3주차|Pop|RnB|Summer|U...   \n",
       "\n",
       "                                          playlist_title  \n",
       "11220  일단 한 번 들어봐_한 번 들으면 계속 듣고싶은 팝송|\" Good Vibe \" 　P...  \n",
       "3163   듣자마자 나도 모르게 리듬 타게 되는 리드미컬한 감성 POP (상시업뎃)|CLOUD...  \n",
       "4022   píαnσ pσp, 불안한 우리의 감성 속으로 o ॰ ॰ |R&B/Soul 모음|최...  \n",
       "11723  빵야빵야 심장을 저격하는 감성 플레이리스트|남자친구에게 불러줄 사랑스러운 노래❤|봄...  \n",
       "18226  혼자 운동할때 듣기 좋은 노래|2017 뜨거웠던 여름을 함께보낸 음악|숨겨진 주옥같...  "
      ]
     },
     "execution_count": 34,
     "metadata": {},
     "output_type": "execute_result"
    }
   ],
   "source": [
    "songdata.head(5)\n",
    "minisong = songdata[['song_id','song_title','playlist_tag','playlist_title']].sample(100)\n",
    "minisong.head(5)"
   ]
  },
  {
   "cell_type": "code",
   "execution_count": null,
   "metadata": {},
   "outputs": [],
   "source": [
    "minisong_ll = minisong[['song_title','playlist_title']].values.tolist()\n",
    "\n",
    "embeddings = []\n",
    "for row in tqdm(minisong_ll):\n",
    "    # print(row[2])\n",
    "    sentence_ll = []\n",
    "    vector_ll = []\n",
    "    for column in row:\n",
    "        if not pd.isna(column):\n",
    "        # print(row[1].split('|'))\n",
    "            temp = column.split('|')\n",
    "        for i in temp:\n",
    "            sentence_ll.append(i)\n",
    "    vectorsum = 0\n",
    "        \n",
    "    for sentence in sentence_ll:\n",
    "        vectorsum += model.encode(sentence)\n",
    "        # print(len(model.encode(sentence)))\n",
    "        # break\n",
    "    vectorsum = vectorsum/len(sentence_ll)\n",
    "    # print(vectorsum[:5])\n",
    "    # break\n",
    "    embeddings.append(vectorsum)\n",
    "            \n",
    "minisong['embedding'] = embeddings\n",
    "minisong\n",
    "\n",
    "    "
   ]
  },
  {
   "cell_type": "code",
   "execution_count": 132,
   "metadata": {},
   "outputs": [],
   "source": [
    "def return_answer(embedding):\n",
    "    # embedding = model.encode(question)\n",
    "    minisong['score'] = minisong.apply(lambda x: cos_sim(x['embedding'], embedding), axis=1)\n",
    "    return minisong.loc[minisong['score'].idxmax()]['song_id']"
   ]
  },
  {
   "cell_type": "code",
   "execution_count": 142,
   "metadata": {},
   "outputs": [
    {
     "name": "stdout",
     "output_type": "stream",
     "text": [
      "393004\n",
      "393004\n",
      "403253\n",
      "443117\n",
      "620754\n"
     ]
    }
   ],
   "source": [
    "for i in range(5):\n",
    "    a = minisample.iloc[i].embedding\n",
    "    print(return_answer(a))"
   ]
  },
  {
   "cell_type": "code",
   "execution_count": 145,
   "metadata": {},
   "outputs": [
    {
     "data": {
      "text/plain": [
       "768"
      ]
     },
     "execution_count": 145,
     "metadata": {},
     "output_type": "execute_result"
    }
   ],
   "source": [
    "a = minisample.iloc[0].embedding\n",
    "len(a)"
   ]
  },
  {
   "cell_type": "code",
   "execution_count": 139,
   "metadata": {},
   "outputs": [
    {
     "data": {
      "text/plain": [
       "name                                              마크롤 가비에로의 모험\n",
       "index        제독의 눈\\n\\n비와 함께 오는 일로나\\n\\n아름다운 죽음\\n\\n\\n\\n해설 | 실...\n",
       "intro        콜롬비아 대표 시인이자 소설가, 알바로 무티스의 대표작\\n\\t\\t \\n\\t\\n\\t\\...\n",
       "review       마술적 사실주의를 현대 인간의 문제와 연결시킨\\n\\n콜롬비아 최고의 시인이자 소설가...\n",
       "embedding    [-0.13231757, 0.055866838, 0.76852053, -0.0364...\n",
       "Name: 7794, dtype: object"
      ]
     },
     "execution_count": 139,
     "metadata": {},
     "output_type": "execute_result"
    }
   ],
   "source": [
    "minisample.iloc[2]"
   ]
  },
  {
   "cell_type": "code",
   "execution_count": 140,
   "metadata": {},
   "outputs": [
    {
     "data": {
      "text/html": [
       "<div>\n",
       "<style scoped>\n",
       "    .dataframe tbody tr th:only-of-type {\n",
       "        vertical-align: middle;\n",
       "    }\n",
       "\n",
       "    .dataframe tbody tr th {\n",
       "        vertical-align: top;\n",
       "    }\n",
       "\n",
       "    .dataframe thead th {\n",
       "        text-align: right;\n",
       "    }\n",
       "</style>\n",
       "<table border=\"1\" class=\"dataframe\">\n",
       "  <thead>\n",
       "    <tr style=\"text-align: right;\">\n",
       "      <th></th>\n",
       "      <th>song_id</th>\n",
       "      <th>song_title</th>\n",
       "      <th>artist</th>\n",
       "      <th>song_genre</th>\n",
       "      <th>song_genre_id</th>\n",
       "      <th>album_id</th>\n",
       "      <th>playlist_tag</th>\n",
       "      <th>playlist_title</th>\n",
       "      <th>lyric</th>\n",
       "    </tr>\n",
       "  </thead>\n",
       "  <tbody>\n",
       "    <tr>\n",
       "      <th>17596</th>\n",
       "      <td>403253</td>\n",
       "      <td>안아줄게</td>\n",
       "      <td>스탠딩 에그</td>\n",
       "      <td>인디음악</td>\n",
       "      <td>GN0500</td>\n",
       "      <td>2293169</td>\n",
       "      <td>2017|20대|4|7월|JAYJE|OST|hem__j|ralalra|standin...</td>\n",
       "      <td>오늘하루지치고힘들었을 나에게 편안하게 잠들게해줄 음악|오늘도 수고했어요 직장인|힘들...</td>\n",
       "      <td>그런 날이 있지 |눈물이 막 날것 같은 그런 날|걷는 것마저 힘겹다고 느껴질 때 |...</td>\n",
       "    </tr>\n",
       "  </tbody>\n",
       "</table>\n",
       "</div>"
      ],
      "text/plain": [
       "       song_id song_title  artist song_genre song_genre_id  album_id  \\\n",
       "17596   403253       안아줄게  스탠딩 에그       인디음악        GN0500   2293169   \n",
       "\n",
       "                                            playlist_tag  \\\n",
       "17596  2017|20대|4|7월|JAYJE|OST|hem__j|ralalra|standin...   \n",
       "\n",
       "                                          playlist_title  \\\n",
       "17596  오늘하루지치고힘들었을 나에게 편안하게 잠들게해줄 음악|오늘도 수고했어요 직장인|힘들...   \n",
       "\n",
       "                                                   lyric  \n",
       "17596  그런 날이 있지 |눈물이 막 날것 같은 그런 날|걷는 것마저 힘겹다고 느껴질 때 |...  "
      ]
     },
     "execution_count": 140,
     "metadata": {},
     "output_type": "execute_result"
    }
   ],
   "source": [
    "songdata[songdata['song_id'] == 403253]"
   ]
  },
  {
   "cell_type": "code",
   "execution_count": 35,
   "metadata": {},
   "outputs": [
    {
     "ename": "ValueError",
     "evalue": "too many dimensions 'str'",
     "output_type": "error",
     "traceback": [
      "\u001b[0;31m---------------------------------------------------------------------------\u001b[0m",
      "\u001b[0;31mValueError\u001b[0m                                Traceback (most recent call last)",
      "Input \u001b[0;32mIn [35]\u001b[0m, in \u001b[0;36m<cell line: 7>\u001b[0;34m()\u001b[0m\n\u001b[1;32m      4\u001b[0m device \u001b[38;5;241m=\u001b[39m torch\u001b[38;5;241m.\u001b[39mdevice(\u001b[38;5;124m'\u001b[39m\u001b[38;5;124mcuda\u001b[39m\u001b[38;5;124m'\u001b[39m)\n\u001b[1;32m      6\u001b[0m minisong_ll \u001b[38;5;241m=\u001b[39m minisong[[\u001b[38;5;124m'\u001b[39m\u001b[38;5;124msong_title\u001b[39m\u001b[38;5;124m'\u001b[39m,\u001b[38;5;124m'\u001b[39m\u001b[38;5;124mplaylist_title\u001b[39m\u001b[38;5;124m'\u001b[39m]]\u001b[38;5;241m.\u001b[39mvalues\u001b[38;5;241m.\u001b[39mtolist()\n\u001b[0;32m----> 7\u001b[0m minisong_ll \u001b[38;5;241m=\u001b[39m \u001b[43mtorch\u001b[49m\u001b[38;5;241;43m.\u001b[39;49m\u001b[43mTensor\u001b[49m\u001b[43m(\u001b[49m\u001b[43mminisong_ll\u001b[49m\u001b[43m)\u001b[49m\n\u001b[1;32m      8\u001b[0m \u001b[38;5;28mtype\u001b[39m(minisong_ll)\n",
      "\u001b[0;31mValueError\u001b[0m: too many dimensions 'str'"
     ]
    }
   ],
   "source": [
    "import numpy as np\n",
    "import torch\n",
    "\n",
    "device = torch.device('cuda')\n",
    "\n",
    "minisong_ll = minisong[['song_title','playlist_title']].values.tolist()\n",
    "minisong_ll = torch.Tensor(minisong_ll)\n",
    "type(minisong_ll)"
   ]
  },
  {
   "cell_type": "code",
   "execution_count": null,
   "metadata": {},
   "outputs": [],
   "source": []
  },
  {
   "cell_type": "code",
   "execution_count": 43,
   "metadata": {},
   "outputs": [
    {
     "name": "stderr",
     "output_type": "stream",
     "text": [
      "100%|██████████| 100/100 [01:51<00:00,  1.12s/it]\n"
     ]
    },
    {
     "data": {
      "text/html": [
       "<div>\n",
       "<style scoped>\n",
       "    .dataframe tbody tr th:only-of-type {\n",
       "        vertical-align: middle;\n",
       "    }\n",
       "\n",
       "    .dataframe tbody tr th {\n",
       "        vertical-align: top;\n",
       "    }\n",
       "\n",
       "    .dataframe thead th {\n",
       "        text-align: right;\n",
       "    }\n",
       "</style>\n",
       "<table border=\"1\" class=\"dataframe\">\n",
       "  <thead>\n",
       "    <tr style=\"text-align: right;\">\n",
       "      <th></th>\n",
       "      <th>song_id</th>\n",
       "      <th>song_title</th>\n",
       "      <th>playlist_tag</th>\n",
       "      <th>playlist_title</th>\n",
       "      <th>embedding</th>\n",
       "    </tr>\n",
       "  </thead>\n",
       "  <tbody>\n",
       "    <tr>\n",
       "      <th>11220</th>\n",
       "      <td>582263</td>\n",
       "      <td>When We Were Young</td>\n",
       "      <td>Chill|K팝스타|K팝스타6|K팝스타시즌6|OST|OST모음|OST포함|RnB|b...</td>\n",
       "      <td>일단 한 번 들어봐_한 번 들으면 계속 듣고싶은 팝송|\" Good Vibe \" 　P...</td>\n",
       "      <td>[-0.07492465993798361, -0.060990588194349916, ...</td>\n",
       "    </tr>\n",
       "    <tr>\n",
       "      <th>3163</th>\n",
       "      <td>638658</td>\n",
       "      <td>Turning</td>\n",
       "      <td>Chill|Pop|RnB|soul|가을|감각|감미로운|감성|겨울|고막여친|그루브|그...</td>\n",
       "      <td>듣자마자 나도 모르게 리듬 타게 되는 리드미컬한 감성 POP (상시업뎃)|CLOUD...</td>\n",
       "      <td>[-0.0237871686528836, -0.17566321450950845, 1....</td>\n",
       "    </tr>\n",
       "    <tr>\n",
       "      <th>4022</th>\n",
       "      <td>493420</td>\n",
       "      <td>A Song For You</td>\n",
       "      <td>1970년대|1980년대|70s|70년대|80년대|BTOBTIME|Bar에서|Fee...</td>\n",
       "      <td>píαnσ pσp, 불안한 우리의 감성 속으로 o ॰ ॰ |R&amp;B/Soul 모음|최...</td>\n",
       "      <td>[-0.06214346119220583, -0.0028707383272166434,...</td>\n",
       "    </tr>\n",
       "    <tr>\n",
       "      <th>11723</th>\n",
       "      <td>600431</td>\n",
       "      <td>UP &amp; DOWN (Feat. Risso)</td>\n",
       "      <td>GUITAR|OST|OST모음|happy|가그맨|가을|가을노래|가을송|감성|개그맨|...</td>\n",
       "      <td>빵야빵야 심장을 저격하는 감성 플레이리스트|남자친구에게 불러줄 사랑스러운 노래❤|봄...</td>\n",
       "      <td>[-0.07990266702730547, -0.03751893747301603, 0...</td>\n",
       "    </tr>\n",
       "    <tr>\n",
       "      <th>18226</th>\n",
       "      <td>603057</td>\n",
       "      <td>Hwi hwi</td>\n",
       "      <td>1위|2000년대|2017|2018|4월|5월_3주차|Pop|RnB|Summer|U...</td>\n",
       "      <td>혼자 운동할때 듣기 좋은 노래|2017 뜨거웠던 여름을 함께보낸 음악|숨겨진 주옥같...</td>\n",
       "      <td>[-0.10197250808221191, -0.10877948581164547, 0...</td>\n",
       "    </tr>\n",
       "    <tr>\n",
       "      <th>...</th>\n",
       "      <td>...</td>\n",
       "      <td>...</td>\n",
       "      <td>...</td>\n",
       "      <td>...</td>\n",
       "      <td>...</td>\n",
       "    </tr>\n",
       "    <tr>\n",
       "      <th>4630</th>\n",
       "      <td>520850</td>\n",
       "      <td>차가운 바람이 불면 (Feat. 모하) (OST Remastered Ver.)</td>\n",
       "      <td>JTBC|OST|bgm|가을|가을에|감성|감성적인|개강|고뇌|공감|기분전환|기분좋은...</td>\n",
       "      <td>뭔가 위로가 필요해 (들어와요)|독특한 이름으로 기억에 쏙 남는 인디 뮤지션들의 노...</td>\n",
       "      <td>[-0.16514130487390186, -0.0019215943048829618,...</td>\n",
       "    </tr>\n",
       "    <tr>\n",
       "      <th>1500</th>\n",
       "      <td>389099</td>\n",
       "      <td>Put That A$$ To Work</td>\n",
       "      <td>2020년걱정노노|8090|Club|EDM|HipHop|HipHop_Rap|Loun...</td>\n",
       "      <td>신나는 음악|『패션매장 전용 리스트-(신남)』|붐.붐.헬스장에서 저절로 바벨 들게될...</td>\n",
       "      <td>[0.0909980779290724, -0.13438542891608576, 1.1...</td>\n",
       "    </tr>\n",
       "    <tr>\n",
       "      <th>2971</th>\n",
       "      <td>411372</td>\n",
       "      <td>Brave Shine (페이트 / 스테이 나이트 `언리미티드 블레이드 워크스` 오프...</td>\n",
       "      <td>ANI|JPOP|JRock|J_POP|OST|One_Ok_Rock|aimer|bgm...</td>\n",
       "      <td>노래찾기 귀찮죠? 일본애니메이션 OP ED OST!|jpop 백과사전ver.3.0|...</td>\n",
       "      <td>[-0.26790784613694996, -0.07789212042310585, 0...</td>\n",
       "    </tr>\n",
       "    <tr>\n",
       "      <th>7484</th>\n",
       "      <td>356376</td>\n",
       "      <td>새끼손가락</td>\n",
       "      <td>2017|Apink|감동|감성|걸그룹|걸그룹발라드|겨울|공감|공연|그리움|기분전환|...</td>\n",
       "      <td>자전거 타면서 들으면 좋은노래|18번째 dj 플레이리스트|혼자서 쉬고 싶은 오후에 ...</td>\n",
       "      <td>[-0.14168663209778043, -0.1300926351748211, 0....</td>\n",
       "    </tr>\n",
       "    <tr>\n",
       "      <th>15249</th>\n",
       "      <td>370760</td>\n",
       "      <td>뜨거울 나이</td>\n",
       "      <td>2010|HipHop|RnB|groove|ralalra|가사좋은노래|가요|가을|가을...</td>\n",
       "      <td>봄이 왔어요❤|¶¶비오는 날에 어울리는 잔잔함을 느끼고 싶다면¶¶|겨울밤엔 발라드와...</td>\n",
       "      <td>[-0.05214053388058304, -0.12084333769863942, 1...</td>\n",
       "    </tr>\n",
       "  </tbody>\n",
       "</table>\n",
       "<p>100 rows × 5 columns</p>\n",
       "</div>"
      ],
      "text/plain": [
       "       song_id                                         song_title  \\\n",
       "11220   582263                                 When We Were Young   \n",
       "3163    638658                                            Turning   \n",
       "4022    493420                                    A Song For You    \n",
       "11723   600431                            UP & DOWN (Feat. Risso)   \n",
       "18226   603057                                            Hwi hwi   \n",
       "...        ...                                                ...   \n",
       "4630    520850        차가운 바람이 불면 (Feat. 모하) (OST Remastered Ver.)   \n",
       "1500    389099                               Put That A$$ To Work   \n",
       "2971    411372  Brave Shine (페이트 / 스테이 나이트 `언리미티드 블레이드 워크스` 오프...   \n",
       "7484    356376                                              새끼손가락   \n",
       "15249   370760                                             뜨거울 나이   \n",
       "\n",
       "                                            playlist_tag  \\\n",
       "11220  Chill|K팝스타|K팝스타6|K팝스타시즌6|OST|OST모음|OST포함|RnB|b...   \n",
       "3163   Chill|Pop|RnB|soul|가을|감각|감미로운|감성|겨울|고막여친|그루브|그...   \n",
       "4022   1970년대|1980년대|70s|70년대|80년대|BTOBTIME|Bar에서|Fee...   \n",
       "11723  GUITAR|OST|OST모음|happy|가그맨|가을|가을노래|가을송|감성|개그맨|...   \n",
       "18226  1위|2000년대|2017|2018|4월|5월_3주차|Pop|RnB|Summer|U...   \n",
       "...                                                  ...   \n",
       "4630   JTBC|OST|bgm|가을|가을에|감성|감성적인|개강|고뇌|공감|기분전환|기분좋은...   \n",
       "1500   2020년걱정노노|8090|Club|EDM|HipHop|HipHop_Rap|Loun...   \n",
       "2971   ANI|JPOP|JRock|J_POP|OST|One_Ok_Rock|aimer|bgm...   \n",
       "7484   2017|Apink|감동|감성|걸그룹|걸그룹발라드|겨울|공감|공연|그리움|기분전환|...   \n",
       "15249  2010|HipHop|RnB|groove|ralalra|가사좋은노래|가요|가을|가을...   \n",
       "\n",
       "                                          playlist_title  \\\n",
       "11220  일단 한 번 들어봐_한 번 들으면 계속 듣고싶은 팝송|\" Good Vibe \" 　P...   \n",
       "3163   듣자마자 나도 모르게 리듬 타게 되는 리드미컬한 감성 POP (상시업뎃)|CLOUD...   \n",
       "4022   píαnσ pσp, 불안한 우리의 감성 속으로 o ॰ ॰ |R&B/Soul 모음|최...   \n",
       "11723  빵야빵야 심장을 저격하는 감성 플레이리스트|남자친구에게 불러줄 사랑스러운 노래❤|봄...   \n",
       "18226  혼자 운동할때 듣기 좋은 노래|2017 뜨거웠던 여름을 함께보낸 음악|숨겨진 주옥같...   \n",
       "...                                                  ...   \n",
       "4630   뭔가 위로가 필요해 (들어와요)|독특한 이름으로 기억에 쏙 남는 인디 뮤지션들의 노...   \n",
       "1500   신나는 음악|『패션매장 전용 리스트-(신남)』|붐.붐.헬스장에서 저절로 바벨 들게될...   \n",
       "2971   노래찾기 귀찮죠? 일본애니메이션 OP ED OST!|jpop 백과사전ver.3.0|...   \n",
       "7484   자전거 타면서 들으면 좋은노래|18번째 dj 플레이리스트|혼자서 쉬고 싶은 오후에 ...   \n",
       "15249  봄이 왔어요❤|¶¶비오는 날에 어울리는 잔잔함을 느끼고 싶다면¶¶|겨울밤엔 발라드와...   \n",
       "\n",
       "                                               embedding  \n",
       "11220  [-0.07492465993798361, -0.060990588194349916, ...  \n",
       "3163   [-0.0237871686528836, -0.17566321450950845, 1....  \n",
       "4022   [-0.06214346119220583, -0.0028707383272166434,...  \n",
       "11723  [-0.07990266702730547, -0.03751893747301603, 0...  \n",
       "18226  [-0.10197250808221191, -0.10877948581164547, 0...  \n",
       "...                                                  ...  \n",
       "4630   [-0.16514130487390186, -0.0019215943048829618,...  \n",
       "1500   [0.0909980779290724, -0.13438542891608576, 1.1...  \n",
       "2971   [-0.26790784613694996, -0.07789212042310585, 0...  \n",
       "7484   [-0.14168663209778043, -0.1300926351748211, 0....  \n",
       "15249  [-0.05214053388058304, -0.12084333769863942, 1...  \n",
       "\n",
       "[100 rows x 5 columns]"
      ]
     },
     "execution_count": 43,
     "metadata": {},
     "output_type": "execute_result"
    }
   ],
   "source": [
    "import numpy as np\n",
    "import torch\n",
    "\n",
    "device = torch.device('cuda')\n",
    "\n",
    "minisong_ll = minisong[['song_title','playlist_title']].values.tolist()\n",
    "# minisong_ll = torch.Tensor(minisong_ll)\n",
    "\n",
    "model.to(device)\n",
    "\n",
    "embeddings = []\n",
    "for row in tqdm(minisong_ll):\n",
    "    # print(row[2])\n",
    "    # row = row.to(device)\n",
    "    sentence_ll = []\n",
    "    vector_ll = []\n",
    "    for column in row:\n",
    "        if not pd.isna(column):\n",
    "        # print(row[1].split('|'))\n",
    "            temp = column.split('|')\n",
    "        for i in temp:\n",
    "            sentence_ll.append(i)\n",
    "    vectorsum = np.zeros(768)\n",
    "    # vectorsums = torch.Tensor(vectorsum)\n",
    "    # vectorsums = vectorsum.to(device)  \n",
    "\n",
    "    # sentence_lls = torch.Tensor(vectorsum)\n",
    "    # sentence_lls.to(device)\n",
    "    for sentence in sentence_ll:\n",
    "        vectorsum += model.encode(sentence)\n",
    "        # print(len(model.encode(sentence)))\n",
    "        # break\n",
    "    vectorsum = vectorsum/len(sentence_ll)\n",
    "    # print(vectorsum[:5])\n",
    "    # break\n",
    "    # vectorsum = vectorsum.to('cpu')  \n",
    "\n",
    "    embeddings.append(vectorsum)\n",
    "            \n",
    "minisong['embedding'] = embeddings\n",
    "minisong\n",
    "\n",
    "    "
   ]
  },
  {
   "cell_type": "code",
   "execution_count": 44,
   "metadata": {},
   "outputs": [],
   "source": [
    "a = minisong[['song_id','embedding']]\n",
    "a.to_csv('minisong_embedding.csv')"
   ]
  },
  {
   "cell_type": "code",
   "execution_count": null,
   "metadata": {},
   "outputs": [],
   "source": [
    "train['embedding'] = train.apply(lambda row: model.encode(row.Q), axis = 1)\n"
   ]
  }
 ],
 "metadata": {
  "interpreter": {
   "hash": "d4d1e4263499bec80672ea0156c357c1ee493ec2b1c70f0acce89fc37c4a6abe"
  },
  "kernelspec": {
   "display_name": "Python 3.8.5 ('base')",
   "language": "python",
   "name": "python3"
  },
  "language_info": {
   "codemirror_mode": {
    "name": "ipython",
    "version": 3
   },
   "file_extension": ".py",
   "mimetype": "text/x-python",
   "name": "python",
   "nbconvert_exporter": "python",
   "pygments_lexer": "ipython3",
   "version": "3.8.5"
  },
  "orig_nbformat": 4
 },
 "nbformat": 4,
 "nbformat_minor": 2
}
