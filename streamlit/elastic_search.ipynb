{
 "cells": [
  {
   "cell_type": "code",
   "execution_count": 9,
   "metadata": {},
   "outputs": [],
   "source": [
    "import pandas as pd\n",
    "import json\n",
    "from collections import OrderedDict"
   ]
  },
  {
   "cell_type": "code",
   "execution_count": 6,
   "metadata": {},
   "outputs": [],
   "source": [
    "data = pd.read_csv('/opt/ml/final/data/DATA_TOKEN/book_data.csv', index_col= 0)\n",
    "data = data.drop_duplicates(['book_id'])"
   ]
  },
  {
   "cell_type": "code",
   "execution_count": 8,
   "metadata": {},
   "outputs": [],
   "source": [
    "data_id = data['book_id'].to_list()\n",
    "data_title = data['book_title'].to_list()\n",
    "data_image = data['book_image'].to_list()\n",
    "data_tag = data['tags_'].to_list()"
   ]
  },
  {
   "cell_type": "code",
   "execution_count": 12,
   "metadata": {},
   "outputs": [],
   "source": [
    "file_data = list()\n",
    "one_data = OrderedDict()"
   ]
  },
  {
   "cell_type": "code",
   "execution_count": 20,
   "metadata": {},
   "outputs": [
    {
     "ename": "AttributeError",
     "evalue": "module 'json' has no attribute 'add'",
     "output_type": "error",
     "traceback": [
      "\u001b[0;31m---------------------------------------------------------------------------\u001b[0m",
      "\u001b[0;31mAttributeError\u001b[0m                            Traceback (most recent call last)",
      "\u001b[1;32m/opt/ml/final/streamlit/elastic_search.ipynb Cell 5'\u001b[0m in \u001b[0;36m<cell line: 1>\u001b[0;34m()\u001b[0m\n\u001b[1;32m      <a href='vscode-notebook-cell://ssh-remote%2B101.101.216.52/opt/ml/final/streamlit/elastic_search.ipynb#ch0000004vscode-remote?line=5'>6</a>\u001b[0m one_data[\u001b[39m'\u001b[39m\u001b[39mtag\u001b[39m\u001b[39m'\u001b[39m] \u001b[39m=\u001b[39m data_tag[i]\n\u001b[1;32m      <a href='vscode-notebook-cell://ssh-remote%2B101.101.216.52/opt/ml/final/streamlit/elastic_search.ipynb#ch0000004vscode-remote?line=6'>7</a>\u001b[0m \u001b[39mwith\u001b[39;00m \u001b[39mopen\u001b[39m(\u001b[39m'\u001b[39m\u001b[39mbook_data.json\u001b[39m\u001b[39m'\u001b[39m, \u001b[39m'\u001b[39m\u001b[39mw\u001b[39m\u001b[39m'\u001b[39m, encoding\u001b[39m=\u001b[39m\u001b[39m'\u001b[39m\u001b[39mutf-8\u001b[39m\u001b[39m'\u001b[39m) \u001b[39mas\u001b[39;00m make_file:\n\u001b[0;32m----> <a href='vscode-notebook-cell://ssh-remote%2B101.101.216.52/opt/ml/final/streamlit/elastic_search.ipynb#ch0000004vscode-remote?line=7'>8</a>\u001b[0m     json\u001b[39m.\u001b[39;49madd(one_data, make_file, ensure_ascii\u001b[39m=\u001b[39m\u001b[39mFalse\u001b[39;00m, indent\u001b[39m=\u001b[39m\u001b[39m'\u001b[39m\u001b[39m\\t\u001b[39;00m\u001b[39m'\u001b[39m)\n",
      "\u001b[0;31mAttributeError\u001b[0m: module 'json' has no attribute 'add'"
     ]
    }
   ],
   "source": [
    "for i in range(len(data_id)):\n",
    "    one_data = OrderedDict()\n",
    "    one_data['id'] = (data_id[i])\n",
    "    one_data['title'] = data_title[i]\n",
    "    one_data['image'] = data_image[i]\n",
    "    one_data['tag'] = data_tag[i]\n",
    "    file_data.append(one_data)\n"
   ]
  },
  {
   "cell_type": "code",
   "execution_count": 22,
   "metadata": {},
   "outputs": [],
   "source": [
    "with open('book_data.json', 'w', encoding='utf-8') as make_file:\n",
    "    json.dump(file_data, make_file, ensure_ascii=False, indent='\\t')"
   ]
  },
  {
   "cell_type": "code",
   "execution_count": 1,
   "metadata": {},
   "outputs": [],
   "source": [
    "import json\n",
    "import requests"
   ]
  },
  {
   "cell_type": "code",
   "execution_count": 19,
   "metadata": {},
   "outputs": [
    {
     "data": {
      "text/plain": [
       "[{'id': 0,\n",
       "  'title': '어느 날 내 죽음에 네가 들어왔다',\n",
       "  'author': '세이카 료겐 저/김윤경 역',\n",
       "  'img_url': 'http://image.yes24.com/goods/109144983/XL',\n",
       "  'intro': '나는 네가 살았으면 좋겠어 모든 걸 포기하려던 순간 기적처럼 시작된 사랑에 관한 이야기 제8회 인터넷소설 대상 수상작  죽고 싶어 하는 소녀 이치노세 쓰키미와 사신에게 수명을 팔아넘긴 대가로 시간을 되돌릴 수 있는 은시계를 얻은 남자 아이바 준 두 사람이 펼쳐내는 삶과 죽음 과거와 현재를 넘나드는 시공초월 로맨스  2019년 2월 일본의 인터넷소설 투고 사이트인 〈소설가가 되자〉에서 한 작품이 화제의 중심에 올랐다 페이지를 넘기는 게 두려워진 건 이 책이 처음 몇 번이고 다시 읽고 싶어진다 이 소설을 읽고 살아갈 희망을 얻었다는 평을 얻으며 연애 분야 일간 1위에 오른 이 작품은 바로 《어느 날 내 죽음에 네가 들어왔다원제《죽고 싶어 하는 소녀의 자살을 방해하고 놀러 다니는 이야기死にたがりな少女の自殺を邪魔して、遊びにつれていく話이다  뛰어난 신인 작가의 발굴장이자 인기 작품을 다수 배출해내기로 유명한 〈소설가가 되자〉에서도 드물게 명작 중의 명작으로 손꼽히며 입소문을 탄 이 작품은 2020년 제8회 인터넷소설 대상을 수상한 데 이어 독자들의 열렬한 지지에 힘입어 단행본으로 출간되기에 이른다  스스로 수명을 포기하고 3년 시한부 인생을 선택한 아이바 준과 계속해서 자살을 시도하는 이치노세 쓰키미의 이야기는 우리가 보통 끝이라고 생각하는 죽음에서 시작해 점차 삶으로 나아가는 독특한 이야기 구조로 독자들에게 신선한 재미를 선사할 뿐 아니라 사랑과 삶의 의미에 대해 다시 한번 생각해보게 하는 묵직한 여운 또한 남길 것이다'},\n",
       " {'id': 1,\n",
       "  'title': '오늘 밤 세계에서 이 사랑이 사라진다 해도',\n",
       "  'author': '이치조 미사키 저/권영주 역',\n",
       "  'img_url': 'http://image.yes24.com/goods/102360203/XL',\n",
       "  'intro': '제26회 전격소설대상 미디어워크스문고상 수상작 총 4607편의 응모 작품 중 최고로 손꼽힌 걸작 모든 심사위원이 눈물을 쏟은 압도적 작품                        머리가 아플 정도로 펑펑 울고 말았다 반드시 반드시 읽어야 할 작품이다 _아마존 독자평  밤에 자고 일어나면 기억이 리셋되는 선행성 기억상실증을 앓는 소녀 히노 마오리와 무미건조한 인생을 살고 있는 평범한 고등학생 가미야 도루의 풋풋하고 애틋한 사랑 이야기  선행성 기억상실증이라는 익숙한 소재를 매우 수준 높은 청춘 소설로 탄생시켰다는 극찬을 받으며 제26회 전격소설대상 미디어워크스문고상을 수상한 이 작품은 간질간질한 청춘의 로맨스를 전혀 예측할 수 없는 국면으로 끌고 가 깐깐하고 엄격한 심사위원 모두를 눈물 흘리게 만들었다는 흥미로운 뒷이야기를 남긴 소설이기도 하다  날 모르겠지만 사귀어줄래 어쩔 수 없이 건넨 도루의 거짓 고백을 날 정말로 좋아하지 말 것 지킬 수 있어라는 조건을 걸고 허락한 히노 조건부 연애였던 두 사람의 관계는 연인이지만 연인이 아닌 이 특수한 관계는 매일 기억이 사라지는 잔혹한 현실을 극복해나갈 수 있을까 이들 사랑의 끝에 어떤 결과가 기다리고 있을까'},\n",
       " {'id': 2,\n",
       "  'title': '수상한 중고상점',\n",
       "  'author': '미치오 슈스케 저/김은모 역',\n",
       "  'img_url': 'http://image.yes24.com/goods/108787022/XL',\n",
       "  'intro': '비싸게 사서 싸게 팝니다 아픈 마음까지도 매입합니다 일본 문학상 그랜드슬램 달성 작가의 경쾌하고 다정한 힐링 드라마                        행복하고 싶을 때 찾아온다면 다정한 위로를 받을 수 있는 곳 _김은모번역가  도심에서 떨어진 주택가 한가운데 평범해 보이는 중고상점이 있다 찾는 물건이라면 무엇이든 구해주고 출장 감정 서비스에 대량 매입까지 서비스에 충실해 고객을 왕으로 모시는 가게다 개업한 지 2년 내내 적자를 면치 못하고 있지만 사실 이 중고상점을 운영하는 가사사기 점장과 히구라시 부점장에게는 돈보다 중요한 것이 있다 바로 물건에 얽힌 사연을 해결하는 일  누군가의 손때 묻은 물건들이 거래되는 이곳에는 저마다의 상처와 아픔을 지닌 평범한 사람들이 모여든다 가사사기와 히구라시는 가게를 찾은 낯선 손님들의 고민과 문제를 해결하겠다며 오지랖을 부리는데 이는 오히려 따뜻한 위로로 다가온다 당장 눈앞의 이득을 좇기보단 타인의 아픔에 진심으로 귀 기울이고 공감하며 사려 깊은 마음을 건네기 때문 그렇게 중고상점은 위로와 환대의 공간으로 다시 태어난다 『수상한 중고상점은 2011년도에 국내에 소개된 뒤 따뜻한 힐링 소설로 입소문을 타며 재출간을 요청하는 목소리가 끊이지 않았고 마침내 독자들을 다시 찾아왔다'},\n",
       " {'id': 3,\n",
       "  'title': '인간 실격',\n",
       "  'author': '다자이 오사무 저',\n",
       "  'img_url': 'http://image.yes24.com/goods/1387488/XL',\n",
       "  'intro': '책 정보가 존재하지 않습니다'},\n",
       " {'id': 4,\n",
       "  'title': '백광',\n",
       "  'author': '렌죠 미키히코 저/양윤옥 역',\n",
       "  'img_url': 'http://image.yes24.com/goods/107072836/XL',\n",
       "  'intro': '저 아이를 죽여 주세요 눈부시게 아찔하고 숨 막히게 매혹적인 치정 미스터리                        독자와 평단은 물론 동료 작가들로부터 명실공히 천재 작가로 평가받는 렌조 미키히코 그는 발표하는 작품마다 치밀한 서술 트릭과 허를 찌르는 반전으로 장르적 재미를 충족시키면서도 남녀 간의 그릇된 애정을 중심으로 한 인간 드라마를 서정미 가득한 문체로 담아내 격조 높은 문학성까지 두루 갖춘 독창적 작품 세계를 선보여 왔다 렌조 미키히코의 작품 세계를 대표하는 소설로 거듭하는 반전을 다룬 솜씨가 백미로 꼽히는 『백광이 모모에서 출간되었다 세상이 전부 녹아내릴 듯 뜨겁던 여름날 어느 가정집 안마당에서 네 살 난 여자아이의 시체가 발견된다 사망 추정 시간에 호텔에서 불륜을 즐긴 아이의 엄마 아내의 불륜 사실을 폭로하려던 아이의 아빠 치과에 예약 진료를 받으러 간 이모 아이를 데리고 집을 지키던 할아버지 잠깐 집에 들렀던 이모부 황급히 집을 뛰쳐나갔던 낯선 남자까지 여아의 시체를 둘러싸고 평범한 일가족이 각자 감추어오던 충격적인 진실을 고백하며 서로를 살인범으로 지목한다 한 명 한 명이 고백할 때마다 범인이 바뀌고 사건이 뒤집히는 믿기 어려운 반전 속에서 과연 누가 진실을 말하고 누가 거짓을 말하는 걸까 또 여자아이를 죽인 진짜 범인은 누구일까'}]"
      ]
     },
     "execution_count": 19,
     "metadata": {},
     "output_type": "execute_result"
    }
   ],
   "source": [
    "r = requests.get(\n",
    "    \"http://0.0.0.0:30002/book/genre/일본\", timeout=8000\n",
    ")\n",
    "\n",
    "r.json()[\"books\"][:5]"
   ]
  },
  {
   "cell_type": "code",
   "execution_count": 10,
   "metadata": {},
   "outputs": [],
   "source": [
    "path = 'http://49.50.161.33:30002/recommendation/2821'"
   ]
  },
  {
   "cell_type": "code",
   "execution_count": 11,
   "metadata": {},
   "outputs": [
    {
     "data": {
      "text/plain": [
       "'http://49.50.161.33:30002/recommendation/2821/text'"
      ]
     },
     "execution_count": 11,
     "metadata": {},
     "output_type": "execute_result"
    }
   ],
   "source": [
    "import os\n",
    "os.path.join(path, 'text')"
   ]
  },
  {
   "cell_type": "code",
   "execution_count": null,
   "metadata": {},
   "outputs": [],
   "source": []
  }
 ],
 "metadata": {
  "interpreter": {
   "hash": "d4d1e4263499bec80672ea0156c357c1ee493ec2b1c70f0acce89fc37c4a6abe"
  },
  "kernelspec": {
   "display_name": "Python 3.8.5 ('base')",
   "language": "python",
   "name": "python3"
  },
  "language_info": {
   "codemirror_mode": {
    "name": "ipython",
    "version": 3
   },
   "file_extension": ".py",
   "mimetype": "text/x-python",
   "name": "python",
   "nbconvert_exporter": "python",
   "pygments_lexer": "ipython3",
   "version": "3.8.5"
  },
  "orig_nbformat": 4
 },
 "nbformat": 4,
 "nbformat_minor": 2
}
